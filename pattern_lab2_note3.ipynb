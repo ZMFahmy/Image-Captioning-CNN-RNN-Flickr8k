{
  "nbformat": 4,
  "nbformat_minor": 0,
  "metadata": {
    "colab": {
      "provenance": [],
      "gpuType": "T4"
    },
    "kernelspec": {
      "name": "python3",
      "display_name": "Python 3"
    },
    "language_info": {
      "name": "python"
    },
    "accelerator": "GPU"
  },
  "cells": [
    {
      "cell_type": "code",
      "source": [
        "from google.colab import drive\n",
        "\n",
        "drive.mount('/content/drive')"
      ],
      "metadata": {
        "colab": {
          "base_uri": "https://localhost:8080/"
        },
        "id": "AbCJppI_lTQc",
        "outputId": "cc78e0e4-8d38-4cd6-a285-5157c72caa3b"
      },
      "execution_count": 1,
      "outputs": [
        {
          "output_type": "stream",
          "name": "stdout",
          "text": [
            "Mounted at /content/drive\n"
          ]
        }
      ]
    },
    {
      "cell_type": "code",
      "source": [
        "import pandas as pd\n",
        "import numpy as np\n",
        "import tensorflow as tf\n",
        "validation_data = pd.read_parquet('/content/drive/My Drive/pattern_recognition/lab_2/validation.parquet')\n",
        "test_data = pd.read_parquet('/content/drive/My Drive/pattern_recognition/lab_2/test.parquet')"
      ],
      "metadata": {
        "id": "IpLUoSj4le5d"
      },
      "execution_count": 2,
      "outputs": []
    },
    {
      "cell_type": "code",
      "source": [
        "from PIL import Image\n",
        "import io\n",
        "import numpy as np"
      ],
      "metadata": {
        "id": "1c4aHBmXmjuU"
      },
      "execution_count": 3,
      "outputs": []
    },
    {
      "cell_type": "code",
      "source": [],
      "metadata": {
        "id": "4wxV4RNEmu1C"
      },
      "execution_count": null,
      "outputs": []
    },
    {
      "cell_type": "code",
      "source": [
        "import cv2\n",
        "import numpy as np\n",
        "\n",
        "def resize_image(image_path):\n",
        "    # Read the image\n",
        "    image = cv2.imread(image_path)\n",
        "\n",
        "    # Define the target size\n",
        "    width, height = 224, 224\n",
        "\n",
        "    # Resize the image\n",
        "    image_resized = cv2.resize(image, (width, height))\n",
        "\n",
        "    return image_resized\n",
        "\n",
        "# path = 'IMG_20220630_171344.jpg'\n",
        "# p = resize_image(path)\n",
        "# p.shape\n"
      ],
      "metadata": {
        "id": "TSDOsL9KmyVR"
      },
      "execution_count": 49,
      "outputs": []
    },
    {
      "cell_type": "code",
      "source": [
        "def resize_image_from_url(image_url):\n",
        "    try:\n",
        "        # Fetch image from URL\n",
        "        response = requests.get(image_url)\n",
        "        response.raise_for_status()  # Raise an exception for invalid responses\n",
        "\n",
        "        # Read the image from response content\n",
        "        image_bytes = BytesIO(response.content)\n",
        "        image = cv2.imdecode(np.frombuffer(image_bytes.read(), np.uint8), cv2.IMREAD_COLOR)\n",
        "\n",
        "        # Define the target size\n",
        "        width, height = 224, 224\n",
        "\n",
        "        # Resize the image\n",
        "        image_resized = cv2.resize(image, (width, height))\n",
        "\n",
        "        return image_resized\n",
        "    except Exception as e:\n",
        "        print(f\"Error: {e}\")\n",
        "        return None"
      ],
      "metadata": {
        "id": "vwFZa6djzR1y"
      },
      "execution_count": 54,
      "outputs": []
    },
    {
      "cell_type": "code",
      "source": [
        "# Last attribute excludes the top (classification) layers of the model, leaving only the feature extraction layers.\n",
        "resnet_model = tf.keras.applications.ResNet50(weights='imagenet', include_top=False)\n",
        "\n",
        "# Freezing layers (making them non-trainable)\n",
        "for layer in resnet_model.layers:\n",
        "  layer.trainable = False"
      ],
      "metadata": {
        "colab": {
          "base_uri": "https://localhost:8080/"
        },
        "id": "GWDpv2vSq_gH",
        "outputId": "8f1a61b6-8c4d-4afe-e39e-e61afa5bab63"
      },
      "execution_count": 17,
      "outputs": [
        {
          "output_type": "stream",
          "name": "stdout",
          "text": [
            "Downloading data from https://storage.googleapis.com/tensorflow/keras-applications/resnet/resnet50_weights_tf_dim_ordering_tf_kernels_notop.h5\n",
            "94765736/94765736 [==============================] - 1s 0us/step\n"
          ]
        }
      ]
    },
    {
      "cell_type": "code",
      "source": [
        "import tensorflow as tf\n",
        "from tensorflow.keras.applications.resnet import ResNet50, preprocess_input\n",
        "global_average_pooling_layer = tf.keras.layers.GlobalAveragePooling2D()\n",
        "\n"
      ],
      "metadata": {
        "colab": {
          "base_uri": "https://localhost:8080/"
        },
        "id": "0Sn0Aa6ZrJ03",
        "outputId": "9269e2fa-3792-4c64-cdf7-f1535e32c55c"
      },
      "execution_count": 33,
      "outputs": [
        {
          "output_type": "stream",
          "name": "stdout",
          "text": [
            "(1, 224, 224, 3)\n",
            "1/1 [==============================] - 0s 183ms/step\n"
          ]
        }
      ]
    },
    {
      "cell_type": "code",
      "source": [
        "# Read the image\n",
        "image = mpimg.imread(path)\n",
        "\n",
        "# Display the image\n",
        "plt.imshow(image)\n",
        "plt.axis('off')  # Turn off axis\n",
        "plt.show()"
      ],
      "metadata": {
        "id": "IH_5dOySpp4V"
      },
      "execution_count": null,
      "outputs": []
    },
    {
      "cell_type": "code",
      "source": [
        "import matplotlib.pyplot as plt\n",
        "import matplotlib.image as mpimg\n",
        "\n",
        "img=p\n",
        "plt.imshow(img)\n",
        "plt.show()"
      ],
      "metadata": {
        "id": "ApIUTnN-omH0"
      },
      "execution_count": null,
      "outputs": []
    },
    {
      "cell_type": "code",
      "execution_count": 37,
      "metadata": {
        "colab": {
          "base_uri": "https://localhost:8080/"
        },
        "id": "MimxiG2yIvEz",
        "outputId": "c98bf0c8-904f-4d0d-c2fe-45170dadb6ac"
      },
      "outputs": [
        {
          "output_type": "stream",
          "name": "stdout",
          "text": [
            "[['a' '1']\n",
            " ['.' '2']\n",
            " ['in' '3']\n",
            " ...\n",
            " ['non-working' '2727']\n",
            " ['startseq' '2728']\n",
            " ['endseq' '2729']]\n",
            "(1000, 2048) 1000\n",
            "[2728    1   13    3    1   28  121    7   39   89   90  258    3    4\n",
            "  339    2 2729    0    0    0    0    0    0    0    0    0    0    0\n",
            "    0    0    0    0    0    0]\n"
          ]
        }
      ],
      "source": [
        "from keras.utils import to_categorical\n",
        "from keras.preprocessing.sequence import pad_sequences\n",
        "import numpy as np###read from step1,2\n",
        "vocabulary=np.load('./vocabulary (1).npy')\n",
        "##output of CNN without the prediction layer or any additional FC layers size(2048,0)\n",
        "images_features=np.load('./validation_features_after_pooling (1) (1).npy')\n",
        "#read from tokeniszed captions\n",
        "captions_dict=np.load('./validation_tokenized_captions.npy')\n",
        "\n",
        "print(vocabulary)\n",
        "print(images_features.shape,len(images_features))\n",
        "print(captions_dict[1])"
      ]
    },
    {
      "cell_type": "code",
      "source": [
        "# inv_dict={v:k for k,v in vocabulary.items()}\n",
        "\n",
        "inv_dict={}\n",
        "for i in range(0,len(vocabulary)):\n",
        "  inv_dict[vocabulary[i][1]]=vocabulary[i][0]\n",
        "dictionary={v:k for k,v in inv_dict.items()}\n"
      ],
      "metadata": {
        "id": "9mpD6QOnJPTQ"
      },
      "execution_count": 38,
      "outputs": []
    },
    {
      "cell_type": "code",
      "source": [
        "\n",
        "VOCAB_SIZE = len(vocabulary)\n",
        "MAX_LEN=37\n",
        "def generator(images, caption):\n",
        "    n_samples = 0\n",
        "\n",
        "    X = []\n",
        "    y_in = []\n",
        "    y_out = []\n",
        "\n",
        "    for i in range(0,len(images_features)):\n",
        "        for j in range (0,len(captions_dict[i])-1):\n",
        "\n",
        "            X.append(images_features[i])\n",
        "            in_seq= [captions_dict[i][:j]]\n",
        "            out_seq = captions_dict[i][j]\n",
        "            in_seq = pad_sequences(in_seq, maxlen=MAX_LEN, padding='post', truncating='post')[0]\n",
        "            # out_seq = to_categorical(int(out_seq), num_classes=VOCAB_SIZE)[0]\n",
        "            out = np.zeros(VOCAB_SIZE)\n",
        "            out[out_seq-1]=1\n",
        "\n",
        "            y_in.append(in_seq)\n",
        "            y_out.append(out)\n",
        "\n",
        "\n",
        "\n",
        "    return X, y_in, y_out"
      ],
      "metadata": {
        "id": "uxi828XrJQ2W"
      },
      "execution_count": 39,
      "outputs": []
    },
    {
      "cell_type": "code",
      "source": [
        "from keras.models import load_model\n",
        "\n",
        "# Load the model\n",
        "model = load_model(\"trained_lstm_new (1).h5\")\n",
        "model.summary()"
      ],
      "metadata": {
        "colab": {
          "base_uri": "https://localhost:8080/"
        },
        "id": "n01dRwvNJh8p",
        "outputId": "4305f99c-f348-46d0-c4a1-feff88e3047a"
      },
      "execution_count": 66,
      "outputs": [
        {
          "output_type": "stream",
          "name": "stdout",
          "text": [
            "Model: \"model\"\n",
            "__________________________________________________________________________________________________\n",
            " Layer (type)                Output Shape                 Param #   Connected to                  \n",
            "==================================================================================================\n",
            " embedding_input (InputLaye  [(None, None)]               0         []                            \n",
            " r)                                                                                               \n",
            "                                                                                                  \n",
            " dense_input (InputLayer)    [(None, 2048)]               0         []                            \n",
            "                                                                                                  \n",
            " embedding (Embedding)       (None, None, 64)             174656    ['embedding_input[0][0]']     \n",
            "                                                                                                  \n",
            " dense (Dense)               (None, 64)                   131136    ['dense_input[0][0]']         \n",
            "                                                                                                  \n",
            " lstm (LSTM)                 (None, None, 256)            328704    ['embedding[0][0]']           \n",
            "                                                                                                  \n",
            " repeat_vector (RepeatVecto  (None, 37, 64)               0         ['dense[0][0]']               \n",
            " r)                                                                                               \n",
            "                                                                                                  \n",
            " time_distributed (TimeDist  (None, None, 64)             16448     ['lstm[0][0]']                \n",
            " ributed)                                                                                         \n",
            "                                                                                                  \n",
            " concatenate (Concatenate)   (None, 37, 128)              0         ['repeat_vector[0][0]',       \n",
            "                                                                     'time_distributed[0][0]']    \n",
            "                                                                                                  \n",
            " lstm_1 (LSTM)               (None, 37, 128)              131584    ['concatenate[0][0]']         \n",
            "                                                                                                  \n",
            " lstm_2 (LSTM)               (None, 512)                  1312768   ['lstm_1[0][0]']              \n",
            "                                                                                                  \n",
            " dense_2 (Dense)             (None, 2729)                 1399977   ['lstm_2[0][0]']              \n",
            "                                                                                                  \n",
            " activation (Activation)     (None, 2729)                 0         ['dense_2[0][0]']             \n",
            "                                                                                                  \n",
            "==================================================================================================\n",
            "Total params: 3495273 (13.33 MB)\n",
            "Trainable params: 3495273 (13.33 MB)\n",
            "Non-trainable params: 0 (0.00 Byte)\n",
            "__________________________________________________________________________________________________\n"
          ]
        }
      ]
    },
    {
      "cell_type": "code",
      "source": [
        "def predict(model,one_image_features):\n",
        "  text_inp = ['startseq']\n",
        "  tokenized=[]\n",
        "  test_feature=[one_image_features]\n",
        "  test_feature=np.array(test_feature)\n",
        "  test_feature=test_feature.reshape(2048,)\n",
        "\n",
        "  xin=[]\n",
        "  xin.append(test_feature)\n",
        "  xin=np.array(xin)\n",
        "\n",
        "  # print(xin.shape,xin[0].shape)\n",
        "\n",
        "  count = 0\n",
        "  caption = ''\n",
        "  while count < 20:\n",
        "      count += 1\n",
        "\n",
        "\n",
        "      encoded = []\n",
        "      for i in text_inp:\n",
        "          encoded.append(float(dictionary[i]))\n",
        "          # print(dictionary[i])\n",
        "\n",
        "      while len(encoded)!=37:\n",
        "        encoded.append(0)\n",
        "\n",
        "      yin=[]\n",
        "      yin.append(encoded)\n",
        "\n",
        "      yin=np.array(yin)\n",
        "      # print(yin[0].shape)\n",
        "      yin[0]=yin[0].reshape(37,)\n",
        "      # print(yin[0].shape,yin[0])\n",
        "      # print(xin[0].shape,xin[0])\n",
        "\n",
        "\n",
        "      prediction =np.argmax(model.predict([xin, yin]))\n",
        "      tokenized.append(prediction+1)\n",
        "\n",
        "      sampled_word = inv_dict[str(prediction+1)]\n",
        "\n",
        "\n",
        "\n",
        "      if sampled_word == 'endseq':\n",
        "          break\n",
        "      else:\n",
        "        caption = caption + ' ' + sampled_word\n",
        "        text_inp.append(sampled_word)\n",
        "  return caption,tokenized\n"
      ],
      "metadata": {
        "id": "feZaH9Z1J35k"
      },
      "execution_count": 67,
      "outputs": []
    },
    {
      "cell_type": "code",
      "source": [
        "from nltk.translate.bleu_score import sentence_bleu"
      ],
      "metadata": {
        "id": "NVdmH3KOzcGM"
      },
      "execution_count": 1,
      "outputs": []
    },
    {
      "cell_type": "code",
      "source": [
        "true_captions=[['a','man','is','standing','near','wall'],['a','man', 'is ','wearing','blue','shirt']]\n",
        "predicted=['a','man', 'is ','in','blue','shirt','a','white','of']\n",
        "\n",
        "sentence_bleu(true_captions,predicted,weights=(.25,0.25,0.25,0.25))"
      ],
      "metadata": {
        "colab": {
          "base_uri": "https://localhost:8080/"
        },
        "id": "pG_SOOtGz6Xz",
        "outputId": "8c7a839d-08de-43fd-9bb1-0058cce71e46"
      },
      "execution_count": 10,
      "outputs": [
        {
          "output_type": "stream",
          "name": "stderr",
          "text": [
            "/usr/local/lib/python3.10/dist-packages/nltk/translate/bleu_score.py:552: UserWarning: \n",
            "The hypothesis contains 0 counts of 4-gram overlaps.\n",
            "Therefore the BLEU score evaluates to 0, independently of\n",
            "how many N-gram overlaps of lower order it contains.\n",
            "Consider using lower n-gram order or use SmoothingFunction()\n",
            "  warnings.warn(_msg)\n"
          ]
        },
        {
          "output_type": "execute_result",
          "data": {
            "text/plain": [
              "5.072841446586652e-78"
            ]
          },
          "metadata": {},
          "execution_count": 10
        }
      ]
    },
    {
      "cell_type": "code",
      "source": [
        "for i in range(30,50):\n",
        "  k,v=predict(model,images_features[i])\n",
        "\n",
        "  print(i,k)"
      ],
      "metadata": {
        "colab": {
          "base_uri": "https://localhost:8080/"
        },
        "id": "CUIT2RVqVxaN",
        "outputId": "7f9635ee-238f-4a31-c6b0-28dab5ce1ac5"
      },
      "execution_count": 74,
      "outputs": [
        {
          "output_type": "stream",
          "name": "stdout",
          "text": [
            "1/1 [==============================] - 0s 52ms/step\n",
            "1/1 [==============================] - 0s 52ms/step\n",
            "1/1 [==============================] - 0s 58ms/step\n",
            "1/1 [==============================] - 0s 53ms/step\n",
            "1/1 [==============================] - 0s 50ms/step\n",
            "1/1 [==============================] - 0s 50ms/step\n",
            "1/1 [==============================] - 0s 52ms/step\n",
            "1/1 [==============================] - 0s 54ms/step\n",
            "1/1 [==============================] - 0s 48ms/step\n",
            "1/1 [==============================] - 0s 50ms/step\n",
            "1/1 [==============================] - 0s 51ms/step\n",
            "1/1 [==============================] - 0s 51ms/step\n",
            "1/1 [==============================] - 0s 55ms/step\n",
            "1/1 [==============================] - 0s 49ms/step\n",
            "1/1 [==============================] - 0s 49ms/step\n",
            "1/1 [==============================] - 0s 51ms/step\n",
            "1/1 [==============================] - 0s 48ms/step\n",
            "30  a man in a black shirt and a man in a black shirt is standing .\n",
            "1/1 [==============================] - 0s 51ms/step\n",
            "1/1 [==============================] - 0s 53ms/step\n",
            "1/1 [==============================] - 0s 50ms/step\n",
            "1/1 [==============================] - 0s 49ms/step\n",
            "1/1 [==============================] - 0s 52ms/step\n",
            "1/1 [==============================] - 0s 51ms/step\n",
            "1/1 [==============================] - 0s 49ms/step\n",
            "1/1 [==============================] - 0s 47ms/step\n",
            "1/1 [==============================] - 0s 49ms/step\n",
            "1/1 [==============================] - 0s 50ms/step\n",
            "1/1 [==============================] - 0s 49ms/step\n",
            "1/1 [==============================] - 0s 55ms/step\n",
            "1/1 [==============================] - 0s 56ms/step\n",
            "1/1 [==============================] - 0s 51ms/step\n",
            "1/1 [==============================] - 0s 50ms/step\n",
            "1/1 [==============================] - 0s 49ms/step\n",
            "31  a man in a red and black shirt is standing on a a brown .\n",
            "1/1 [==============================] - 0s 54ms/step\n",
            "1/1 [==============================] - 0s 53ms/step\n",
            "1/1 [==============================] - 0s 52ms/step\n",
            "1/1 [==============================] - 0s 50ms/step\n",
            "1/1 [==============================] - 0s 51ms/step\n",
            "1/1 [==============================] - 0s 52ms/step\n",
            "1/1 [==============================] - 0s 50ms/step\n",
            "1/1 [==============================] - 0s 50ms/step\n",
            "1/1 [==============================] - 0s 51ms/step\n",
            "1/1 [==============================] - 0s 49ms/step\n",
            "1/1 [==============================] - 0s 47ms/step\n",
            "1/1 [==============================] - 0s 51ms/step\n",
            "1/1 [==============================] - 0s 46ms/step\n",
            "32  a man in a black shirt is standing in the water .\n",
            "1/1 [==============================] - 0s 51ms/step\n",
            "1/1 [==============================] - 0s 51ms/step\n",
            "1/1 [==============================] - 0s 48ms/step\n",
            "1/1 [==============================] - 0s 49ms/step\n",
            "1/1 [==============================] - 0s 64ms/step\n",
            "1/1 [==============================] - 0s 50ms/step\n",
            "1/1 [==============================] - 0s 50ms/step\n",
            "1/1 [==============================] - 0s 50ms/step\n",
            "1/1 [==============================] - 0s 51ms/step\n",
            "1/1 [==============================] - 0s 49ms/step\n",
            "1/1 [==============================] - 0s 48ms/step\n",
            "1/1 [==============================] - 0s 51ms/step\n",
            "33  a black and white dog is running through the grass .\n",
            "1/1 [==============================] - 0s 56ms/step\n",
            "1/1 [==============================] - 0s 66ms/step\n",
            "1/1 [==============================] - 0s 47ms/step\n",
            "1/1 [==============================] - 0s 48ms/step\n",
            "1/1 [==============================] - 0s 48ms/step\n",
            "1/1 [==============================] - 0s 50ms/step\n",
            "1/1 [==============================] - 0s 49ms/step\n",
            "1/1 [==============================] - 0s 60ms/step\n",
            "1/1 [==============================] - 0s 52ms/step\n",
            "34  a man is running through a field .\n",
            "1/1 [==============================] - 0s 52ms/step\n",
            "1/1 [==============================] - 0s 67ms/step\n",
            "1/1 [==============================] - 0s 55ms/step\n",
            "1/1 [==============================] - 0s 54ms/step\n",
            "1/1 [==============================] - 0s 50ms/step\n",
            "1/1 [==============================] - 0s 49ms/step\n",
            "1/1 [==============================] - 0s 76ms/step\n",
            "1/1 [==============================] - 0s 83ms/step\n",
            "1/1 [==============================] - 0s 77ms/step\n",
            "1/1 [==============================] - 0s 77ms/step\n",
            "1/1 [==============================] - 0s 81ms/step\n",
            "1/1 [==============================] - 0s 75ms/step\n",
            "1/1 [==============================] - 0s 78ms/step\n",
            "1/1 [==============================] - 0s 81ms/step\n",
            "1/1 [==============================] - 0s 89ms/step\n",
            "1/1 [==============================] - 0s 93ms/step\n",
            "1/1 [==============================] - 0s 79ms/step\n",
            "1/1 [==============================] - 0s 85ms/step\n",
            "1/1 [==============================] - 0s 78ms/step\n",
            "1/1 [==============================] - 0s 82ms/step\n",
            "35  a man in a black shirt and a man in a black dog and a man in a black shirt\n",
            "1/1 [==============================] - 0s 79ms/step\n",
            "1/1 [==============================] - 0s 82ms/step\n",
            "1/1 [==============================] - 0s 80ms/step\n",
            "1/1 [==============================] - 0s 81ms/step\n",
            "1/1 [==============================] - 0s 83ms/step\n",
            "1/1 [==============================] - 0s 84ms/step\n",
            "1/1 [==============================] - 0s 88ms/step\n",
            "1/1 [==============================] - 0s 82ms/step\n",
            "1/1 [==============================] - 0s 85ms/step\n",
            "1/1 [==============================] - 0s 53ms/step\n",
            "1/1 [==============================] - 0s 54ms/step\n",
            "1/1 [==============================] - 0s 55ms/step\n",
            "1/1 [==============================] - 0s 50ms/step\n",
            "36  a boy in a black shirt is jumping on a skateboard .\n",
            "1/1 [==============================] - 0s 56ms/step\n",
            "1/1 [==============================] - 0s 51ms/step\n",
            "1/1 [==============================] - 0s 50ms/step\n",
            "1/1 [==============================] - 0s 65ms/step\n",
            "1/1 [==============================] - 0s 48ms/step\n",
            "1/1 [==============================] - 0s 47ms/step\n",
            "1/1 [==============================] - 0s 50ms/step\n",
            "1/1 [==============================] - 0s 50ms/step\n",
            "1/1 [==============================] - 0s 48ms/step\n",
            "1/1 [==============================] - 0s 51ms/step\n",
            "37  a biker in the air in the air .\n",
            "1/1 [==============================] - 0s 53ms/step\n",
            "1/1 [==============================] - 0s 50ms/step\n",
            "1/1 [==============================] - 0s 62ms/step\n",
            "1/1 [==============================] - 0s 47ms/step\n",
            "1/1 [==============================] - 0s 50ms/step\n",
            "1/1 [==============================] - 0s 50ms/step\n",
            "1/1 [==============================] - 0s 53ms/step\n",
            "1/1 [==============================] - 0s 52ms/step\n",
            "1/1 [==============================] - 0s 50ms/step\n",
            "1/1 [==============================] - 0s 51ms/step\n",
            "1/1 [==============================] - 0s 50ms/step\n",
            "1/1 [==============================] - 0s 60ms/step\n",
            "1/1 [==============================] - 0s 50ms/step\n",
            "1/1 [==============================] - 0s 53ms/step\n",
            "1/1 [==============================] - 0s 48ms/step\n",
            "1/1 [==============================] - 0s 49ms/step\n",
            "1/1 [==============================] - 0s 54ms/step\n",
            "1/1 [==============================] - 0s 48ms/step\n",
            "1/1 [==============================] - 0s 48ms/step\n",
            "1/1 [==============================] - 0s 52ms/step\n",
            "38  a boy in a red and black and black shirt is standing on a white and white dog .\n",
            "1/1 [==============================] - 0s 62ms/step\n",
            "1/1 [==============================] - 0s 50ms/step\n",
            "1/1 [==============================] - 0s 49ms/step\n",
            "1/1 [==============================] - 0s 50ms/step\n",
            "1/1 [==============================] - 0s 53ms/step\n",
            "1/1 [==============================] - 0s 53ms/step\n",
            "1/1 [==============================] - 0s 51ms/step\n",
            "1/1 [==============================] - 0s 48ms/step\n",
            "1/1 [==============================] - 0s 52ms/step\n",
            "1/1 [==============================] - 0s 63ms/step\n",
            "1/1 [==============================] - 0s 54ms/step\n",
            "1/1 [==============================] - 0s 43ms/step\n",
            "1/1 [==============================] - 0s 54ms/step\n",
            "1/1 [==============================] - 0s 46ms/step\n",
            "1/1 [==============================] - 0s 47ms/step\n",
            "1/1 [==============================] - 0s 53ms/step\n",
            "1/1 [==============================] - 0s 50ms/step\n",
            "1/1 [==============================] - 0s 48ms/step\n",
            "1/1 [==============================] - 0s 58ms/step\n",
            "1/1 [==============================] - 0s 50ms/step\n",
            "39  a boy in a black shirt and black shirt on a and white and brown and brown and brown and\n",
            "1/1 [==============================] - 0s 57ms/step\n",
            "1/1 [==============================] - 0s 56ms/step\n",
            "1/1 [==============================] - 0s 49ms/step\n",
            "1/1 [==============================] - 0s 49ms/step\n",
            "1/1 [==============================] - 0s 48ms/step\n",
            "1/1 [==============================] - 0s 49ms/step\n",
            "1/1 [==============================] - 0s 50ms/step\n",
            "1/1 [==============================] - 0s 59ms/step\n",
            "1/1 [==============================] - 0s 52ms/step\n",
            "1/1 [==============================] - 0s 50ms/step\n",
            "1/1 [==============================] - 0s 51ms/step\n",
            "1/1 [==============================] - 0s 52ms/step\n",
            "1/1 [==============================] - 0s 52ms/step\n",
            "1/1 [==============================] - 0s 54ms/step\n",
            "1/1 [==============================] - 0s 49ms/step\n",
            "1/1 [==============================] - 0s 48ms/step\n",
            "1/1 [==============================] - 0s 60ms/step\n",
            "1/1 [==============================] - 0s 51ms/step\n",
            "1/1 [==============================] - 0s 50ms/step\n",
            "1/1 [==============================] - 0s 49ms/step\n",
            "40  a man in a black and black shirt and a man in a black shirt and white shirt in a\n",
            "1/1 [==============================] - 0s 53ms/step\n",
            "1/1 [==============================] - 0s 48ms/step\n",
            "1/1 [==============================] - 0s 50ms/step\n",
            "1/1 [==============================] - 0s 51ms/step\n",
            "1/1 [==============================] - 0s 48ms/step\n",
            "1/1 [==============================] - 0s 58ms/step\n",
            "1/1 [==============================] - 0s 52ms/step\n",
            "1/1 [==============================] - 0s 54ms/step\n",
            "1/1 [==============================] - 0s 50ms/step\n",
            "1/1 [==============================] - 0s 54ms/step\n",
            "1/1 [==============================] - 0s 47ms/step\n",
            "1/1 [==============================] - 0s 48ms/step\n",
            "41  a biker in a black and and a black jacket .\n",
            "1/1 [==============================] - 0s 52ms/step\n",
            "1/1 [==============================] - 0s 84ms/step\n",
            "1/1 [==============================] - 0s 72ms/step\n",
            "1/1 [==============================] - 0s 74ms/step\n",
            "1/1 [==============================] - 0s 82ms/step\n",
            "1/1 [==============================] - 0s 69ms/step\n",
            "1/1 [==============================] - 0s 73ms/step\n",
            "1/1 [==============================] - 0s 84ms/step\n",
            "1/1 [==============================] - 0s 96ms/step\n",
            "1/1 [==============================] - 0s 82ms/step\n",
            "1/1 [==============================] - 0s 86ms/step\n",
            "42  a group of people are standing in a field .\n",
            "1/1 [==============================] - 0s 76ms/step\n",
            "1/1 [==============================] - 0s 79ms/step\n",
            "1/1 [==============================] - 0s 76ms/step\n",
            "1/1 [==============================] - 0s 87ms/step\n",
            "1/1 [==============================] - 0s 74ms/step\n",
            "1/1 [==============================] - 0s 78ms/step\n",
            "1/1 [==============================] - 0s 74ms/step\n",
            "1/1 [==============================] - 0s 78ms/step\n",
            "1/1 [==============================] - 0s 81ms/step\n",
            "1/1 [==============================] - 0s 79ms/step\n",
            "43  a black dog is running through the water .\n",
            "1/1 [==============================] - 0s 83ms/step\n",
            "1/1 [==============================] - 0s 81ms/step\n",
            "1/1 [==============================] - 0s 81ms/step\n",
            "1/1 [==============================] - 0s 51ms/step\n",
            "1/1 [==============================] - 0s 51ms/step\n",
            "1/1 [==============================] - 0s 49ms/step\n",
            "1/1 [==============================] - 0s 51ms/step\n",
            "1/1 [==============================] - 0s 65ms/step\n",
            "1/1 [==============================] - 0s 49ms/step\n",
            "1/1 [==============================] - 0s 47ms/step\n",
            "1/1 [==============================] - 0s 49ms/step\n",
            "1/1 [==============================] - 0s 49ms/step\n",
            "1/1 [==============================] - 0s 51ms/step\n",
            "1/1 [==============================] - 0s 49ms/step\n",
            "1/1 [==============================] - 0s 50ms/step\n",
            "1/1 [==============================] - 0s 55ms/step\n",
            "1/1 [==============================] - 0s 49ms/step\n",
            "1/1 [==============================] - 0s 66ms/step\n",
            "44  a man in a black shirt is standing in a dog in the brown of dog .\n",
            "1/1 [==============================] - 0s 50ms/step\n",
            "1/1 [==============================] - 0s 49ms/step\n",
            "1/1 [==============================] - 0s 46ms/step\n",
            "1/1 [==============================] - 0s 48ms/step\n",
            "1/1 [==============================] - 0s 49ms/step\n",
            "1/1 [==============================] - 0s 54ms/step\n",
            "1/1 [==============================] - 0s 56ms/step\n",
            "1/1 [==============================] - 0s 49ms/step\n",
            "1/1 [==============================] - 0s 51ms/step\n",
            "1/1 [==============================] - 0s 53ms/step\n",
            "1/1 [==============================] - 0s 51ms/step\n",
            "1/1 [==============================] - 0s 53ms/step\n",
            "1/1 [==============================] - 0s 48ms/step\n",
            "45  a boy in a red shirt is standing on a red .\n",
            "1/1 [==============================] - 0s 51ms/step\n",
            "1/1 [==============================] - 0s 52ms/step\n",
            "1/1 [==============================] - 0s 52ms/step\n",
            "1/1 [==============================] - 0s 53ms/step\n",
            "1/1 [==============================] - 0s 49ms/step\n",
            "1/1 [==============================] - 0s 48ms/step\n",
            "1/1 [==============================] - 0s 52ms/step\n",
            "1/1 [==============================] - 0s 50ms/step\n",
            "1/1 [==============================] - 0s 55ms/step\n",
            "1/1 [==============================] - 0s 48ms/step\n",
            "1/1 [==============================] - 0s 54ms/step\n",
            "1/1 [==============================] - 0s 57ms/step\n",
            "1/1 [==============================] - 0s 46ms/step\n",
            "1/1 [==============================] - 0s 48ms/step\n",
            "1/1 [==============================] - 0s 54ms/step\n",
            "46  a boy in a red shirt is jumping on a and red skateboard .\n",
            "1/1 [==============================] - 0s 53ms/step\n",
            "1/1 [==============================] - 0s 55ms/step\n",
            "1/1 [==============================] - 0s 49ms/step\n",
            "1/1 [==============================] - 0s 58ms/step\n",
            "1/1 [==============================] - 0s 53ms/step\n",
            "1/1 [==============================] - 0s 71ms/step\n",
            "1/1 [==============================] - 0s 49ms/step\n",
            "1/1 [==============================] - 0s 47ms/step\n",
            "1/1 [==============================] - 0s 49ms/step\n",
            "47  a dog is running through a field .\n",
            "1/1 [==============================] - 0s 57ms/step\n",
            "1/1 [==============================] - 0s 50ms/step\n",
            "1/1 [==============================] - 0s 53ms/step\n",
            "1/1 [==============================] - 0s 49ms/step\n",
            "1/1 [==============================] - 0s 50ms/step\n",
            "1/1 [==============================] - 0s 58ms/step\n",
            "1/1 [==============================] - 0s 48ms/step\n",
            "1/1 [==============================] - 0s 46ms/step\n",
            "1/1 [==============================] - 0s 55ms/step\n",
            "48  a dog is running through the water .\n",
            "1/1 [==============================] - 0s 52ms/step\n",
            "1/1 [==============================] - 0s 48ms/step\n",
            "1/1 [==============================] - 0s 54ms/step\n",
            "1/1 [==============================] - 0s 50ms/step\n",
            "1/1 [==============================] - 0s 49ms/step\n",
            "1/1 [==============================] - 0s 57ms/step\n",
            "1/1 [==============================] - 0s 47ms/step\n",
            "1/1 [==============================] - 0s 49ms/step\n",
            "1/1 [==============================] - 0s 48ms/step\n",
            "1/1 [==============================] - 0s 55ms/step\n",
            "1/1 [==============================] - 0s 52ms/step\n",
            "1/1 [==============================] - 0s 53ms/step\n",
            "1/1 [==============================] - 0s 53ms/step\n",
            "1/1 [==============================] - 0s 52ms/step\n",
            "1/1 [==============================] - 0s 55ms/step\n",
            "1/1 [==============================] - 0s 51ms/step\n",
            "1/1 [==============================] - 0s 55ms/step\n",
            "1/1 [==============================] - 0s 50ms/step\n",
            "1/1 [==============================] - 0s 48ms/step\n",
            "1/1 [==============================] - 0s 47ms/step\n",
            "49  a man in a black and white shirt and a man in a white shirt and white shirt and a\n"
          ]
        }
      ]
    },
    {
      "cell_type": "code",
      "source": [
        "captions=np.load('./grouped_validation_captions.npy')"
      ],
      "metadata": {
        "id": "6jjzuYPWtMW3"
      },
      "execution_count": 30,
      "outputs": []
    },
    {
      "cell_type": "code",
      "source": [
        "captions[20]"
      ],
      "metadata": {
        "colab": {
          "base_uri": "https://localhost:8080/"
        },
        "id": "Rd9mBH_duF6M",
        "outputId": "72f7ce95-ec9f-4db1-bdb9-9103bff96a52"
      },
      "execution_count": 38,
      "outputs": [
        {
          "output_type": "execute_result",
          "data": {
            "text/plain": [
              "array(['A black dog is looking through the fence .',\n",
              "       'A brown dog runs along a fence .',\n",
              "       'A dark brown dog is running along a fence outside .',\n",
              "       'A large black dog runs along a fence in the grass .',\n",
              "       'The brown greyhound dog walks on green grass and looks through a fence .'],\n",
              "      dtype='<U162')"
            ]
          },
          "metadata": {},
          "execution_count": 38
        }
      ]
    },
    {
      "cell_type": "code",
      "source": [
        "predicted_captions=[]\n",
        "for i in range(0,len(images_features)):\n",
        "  k,v=predict(model,images_features[i])\n",
        "  predicted_captions.append(k)"
      ],
      "metadata": {
        "colab": {
          "base_uri": "https://localhost:8080/",
          "height": 1000
        },
        "id": "FEB2-tVXt8KT",
        "outputId": "15ca43f9-9247-4452-dc4c-d4ded9edeb9b"
      },
      "execution_count": 68,
      "outputs": [
        {
          "output_type": "stream",
          "name": "stdout",
          "text": [
            "1/1 [==============================] - 2s 2s/step\n",
            "1/1 [==============================] - 0s 73ms/step\n",
            "1/1 [==============================] - 0s 79ms/step\n",
            "1/1 [==============================] - 0s 288ms/step\n",
            "1/1 [==============================] - 0s 217ms/step\n",
            "1/1 [==============================] - 0s 83ms/step\n",
            "1/1 [==============================] - 0s 79ms/step\n",
            "1/1 [==============================] - 0s 58ms/step\n",
            "1/1 [==============================] - 0s 49ms/step\n",
            "1/1 [==============================] - 0s 48ms/step\n",
            "1/1 [==============================] - 0s 45ms/step\n",
            "1/1 [==============================] - 0s 51ms/step\n",
            "1/1 [==============================] - 0s 45ms/step\n",
            "1/1 [==============================] - 0s 46ms/step\n",
            "1/1 [==============================] - 0s 49ms/step\n",
            "1/1 [==============================] - 0s 48ms/step\n",
            "1/1 [==============================] - 0s 49ms/step\n",
            "1/1 [==============================] - 0s 48ms/step\n",
            "1/1 [==============================] - 0s 49ms/step\n",
            "1/1 [==============================] - 0s 48ms/step\n",
            "1/1 [==============================] - 0s 56ms/step\n",
            "1/1 [==============================] - 0s 51ms/step\n",
            "1/1 [==============================] - 0s 47ms/step\n",
            "1/1 [==============================] - 0s 61ms/step\n",
            "1/1 [==============================] - 0s 48ms/step\n",
            "1/1 [==============================] - 0s 53ms/step\n",
            "1/1 [==============================] - 0s 49ms/step\n",
            "1/1 [==============================] - 0s 47ms/step\n",
            "1/1 [==============================] - 0s 52ms/step\n",
            "1/1 [==============================] - 0s 47ms/step\n",
            "1/1 [==============================] - 0s 51ms/step\n",
            "1/1 [==============================] - 0s 47ms/step\n",
            "1/1 [==============================] - 0s 48ms/step\n",
            "1/1 [==============================] - 0s 50ms/step\n",
            "1/1 [==============================] - 0s 47ms/step\n",
            "1/1 [==============================] - 0s 52ms/step\n",
            "1/1 [==============================] - 0s 48ms/step\n",
            "1/1 [==============================] - 0s 47ms/step\n",
            "1/1 [==============================] - 0s 52ms/step\n",
            "1/1 [==============================] - 0s 50ms/step\n",
            "1/1 [==============================] - 0s 48ms/step\n"
          ]
        },
        {
          "output_type": "error",
          "ename": "KeyboardInterrupt",
          "evalue": "",
          "traceback": [
            "\u001b[0;31m---------------------------------------------------------------------------\u001b[0m",
            "\u001b[0;31mKeyboardInterrupt\u001b[0m                         Traceback (most recent call last)",
            "\u001b[0;32m<ipython-input-68-638bc1a3ae47>\u001b[0m in \u001b[0;36m<cell line: 2>\u001b[0;34m()\u001b[0m\n\u001b[1;32m      1\u001b[0m \u001b[0mpredicted_captions\u001b[0m\u001b[0;34m=\u001b[0m\u001b[0;34m[\u001b[0m\u001b[0;34m]\u001b[0m\u001b[0;34m\u001b[0m\u001b[0;34m\u001b[0m\u001b[0m\n\u001b[1;32m      2\u001b[0m \u001b[0;32mfor\u001b[0m \u001b[0mi\u001b[0m \u001b[0;32min\u001b[0m \u001b[0mrange\u001b[0m\u001b[0;34m(\u001b[0m\u001b[0;36m0\u001b[0m\u001b[0;34m,\u001b[0m\u001b[0mlen\u001b[0m\u001b[0;34m(\u001b[0m\u001b[0mimages_features\u001b[0m\u001b[0;34m)\u001b[0m\u001b[0;34m)\u001b[0m\u001b[0;34m:\u001b[0m\u001b[0;34m\u001b[0m\u001b[0;34m\u001b[0m\u001b[0m\n\u001b[0;32m----> 3\u001b[0;31m   \u001b[0mk\u001b[0m\u001b[0;34m,\u001b[0m\u001b[0mv\u001b[0m\u001b[0;34m=\u001b[0m\u001b[0mpredict\u001b[0m\u001b[0;34m(\u001b[0m\u001b[0mmodel\u001b[0m\u001b[0;34m,\u001b[0m\u001b[0mimages_features\u001b[0m\u001b[0;34m[\u001b[0m\u001b[0mi\u001b[0m\u001b[0;34m]\u001b[0m\u001b[0;34m)\u001b[0m\u001b[0;34m\u001b[0m\u001b[0;34m\u001b[0m\u001b[0m\n\u001b[0m\u001b[1;32m      4\u001b[0m   \u001b[0mpredicted_captions\u001b[0m\u001b[0;34m.\u001b[0m\u001b[0mappend\u001b[0m\u001b[0;34m(\u001b[0m\u001b[0mk\u001b[0m\u001b[0;34m)\u001b[0m\u001b[0;34m\u001b[0m\u001b[0;34m\u001b[0m\u001b[0m\n",
            "\u001b[0;32m<ipython-input-67-d8470e1cbe28>\u001b[0m in \u001b[0;36mpredict\u001b[0;34m(model, one_image_features)\u001b[0m\n\u001b[1;32m     36\u001b[0m \u001b[0;34m\u001b[0m\u001b[0m\n\u001b[1;32m     37\u001b[0m \u001b[0;34m\u001b[0m\u001b[0m\n\u001b[0;32m---> 38\u001b[0;31m       \u001b[0mprediction\u001b[0m \u001b[0;34m=\u001b[0m\u001b[0mnp\u001b[0m\u001b[0;34m.\u001b[0m\u001b[0margmax\u001b[0m\u001b[0;34m(\u001b[0m\u001b[0mmodel\u001b[0m\u001b[0;34m.\u001b[0m\u001b[0mpredict\u001b[0m\u001b[0;34m(\u001b[0m\u001b[0;34m[\u001b[0m\u001b[0mxin\u001b[0m\u001b[0;34m,\u001b[0m \u001b[0myin\u001b[0m\u001b[0;34m]\u001b[0m\u001b[0;34m)\u001b[0m\u001b[0;34m)\u001b[0m\u001b[0;34m\u001b[0m\u001b[0;34m\u001b[0m\u001b[0m\n\u001b[0m\u001b[1;32m     39\u001b[0m       \u001b[0mtokenized\u001b[0m\u001b[0;34m.\u001b[0m\u001b[0mappend\u001b[0m\u001b[0;34m(\u001b[0m\u001b[0mprediction\u001b[0m\u001b[0;34m+\u001b[0m\u001b[0;36m1\u001b[0m\u001b[0;34m)\u001b[0m\u001b[0;34m\u001b[0m\u001b[0;34m\u001b[0m\u001b[0m\n\u001b[1;32m     40\u001b[0m \u001b[0;34m\u001b[0m\u001b[0m\n",
            "\u001b[0;32m/usr/local/lib/python3.10/dist-packages/keras/src/utils/traceback_utils.py\u001b[0m in \u001b[0;36merror_handler\u001b[0;34m(*args, **kwargs)\u001b[0m\n\u001b[1;32m     63\u001b[0m         \u001b[0mfiltered_tb\u001b[0m \u001b[0;34m=\u001b[0m \u001b[0;32mNone\u001b[0m\u001b[0;34m\u001b[0m\u001b[0;34m\u001b[0m\u001b[0m\n\u001b[1;32m     64\u001b[0m         \u001b[0;32mtry\u001b[0m\u001b[0;34m:\u001b[0m\u001b[0;34m\u001b[0m\u001b[0;34m\u001b[0m\u001b[0m\n\u001b[0;32m---> 65\u001b[0;31m             \u001b[0;32mreturn\u001b[0m \u001b[0mfn\u001b[0m\u001b[0;34m(\u001b[0m\u001b[0;34m*\u001b[0m\u001b[0margs\u001b[0m\u001b[0;34m,\u001b[0m \u001b[0;34m**\u001b[0m\u001b[0mkwargs\u001b[0m\u001b[0;34m)\u001b[0m\u001b[0;34m\u001b[0m\u001b[0;34m\u001b[0m\u001b[0m\n\u001b[0m\u001b[1;32m     66\u001b[0m         \u001b[0;32mexcept\u001b[0m \u001b[0mException\u001b[0m \u001b[0;32mas\u001b[0m \u001b[0me\u001b[0m\u001b[0;34m:\u001b[0m\u001b[0;34m\u001b[0m\u001b[0;34m\u001b[0m\u001b[0m\n\u001b[1;32m     67\u001b[0m             \u001b[0mfiltered_tb\u001b[0m \u001b[0;34m=\u001b[0m \u001b[0m_process_traceback_frames\u001b[0m\u001b[0;34m(\u001b[0m\u001b[0me\u001b[0m\u001b[0;34m.\u001b[0m\u001b[0m__traceback__\u001b[0m\u001b[0;34m)\u001b[0m\u001b[0;34m\u001b[0m\u001b[0;34m\u001b[0m\u001b[0m\n",
            "\u001b[0;32m/usr/local/lib/python3.10/dist-packages/keras/src/engine/training.py\u001b[0m in \u001b[0;36mpredict\u001b[0;34m(self, x, batch_size, verbose, steps, callbacks, max_queue_size, workers, use_multiprocessing)\u001b[0m\n\u001b[1;32m   2618\u001b[0m                     )\n\u001b[1;32m   2619\u001b[0m \u001b[0;34m\u001b[0m\u001b[0m\n\u001b[0;32m-> 2620\u001b[0;31m             data_handler = data_adapter.get_data_handler(\n\u001b[0m\u001b[1;32m   2621\u001b[0m                 \u001b[0mx\u001b[0m\u001b[0;34m=\u001b[0m\u001b[0mx\u001b[0m\u001b[0;34m,\u001b[0m\u001b[0;34m\u001b[0m\u001b[0;34m\u001b[0m\u001b[0m\n\u001b[1;32m   2622\u001b[0m                 \u001b[0mbatch_size\u001b[0m\u001b[0;34m=\u001b[0m\u001b[0mbatch_size\u001b[0m\u001b[0;34m,\u001b[0m\u001b[0;34m\u001b[0m\u001b[0;34m\u001b[0m\u001b[0m\n",
            "\u001b[0;32m/usr/local/lib/python3.10/dist-packages/keras/src/engine/data_adapter.py\u001b[0m in \u001b[0;36mget_data_handler\u001b[0;34m(*args, **kwargs)\u001b[0m\n\u001b[1;32m   1686\u001b[0m             \u001b[0;32mreturn\u001b[0m \u001b[0m_ClusterCoordinatorExactEvalDataHandler\u001b[0m\u001b[0;34m(\u001b[0m\u001b[0;34m*\u001b[0m\u001b[0margs\u001b[0m\u001b[0;34m,\u001b[0m \u001b[0;34m**\u001b[0m\u001b[0mkwargs\u001b[0m\u001b[0;34m)\u001b[0m\u001b[0;34m\u001b[0m\u001b[0;34m\u001b[0m\u001b[0m\n\u001b[1;32m   1687\u001b[0m         \u001b[0;32mreturn\u001b[0m \u001b[0m_ClusterCoordinatorDataHandler\u001b[0m\u001b[0;34m(\u001b[0m\u001b[0;34m*\u001b[0m\u001b[0margs\u001b[0m\u001b[0;34m,\u001b[0m \u001b[0;34m**\u001b[0m\u001b[0mkwargs\u001b[0m\u001b[0;34m)\u001b[0m\u001b[0;34m\u001b[0m\u001b[0;34m\u001b[0m\u001b[0m\n\u001b[0;32m-> 1688\u001b[0;31m     \u001b[0;32mreturn\u001b[0m \u001b[0mDataHandler\u001b[0m\u001b[0;34m(\u001b[0m\u001b[0;34m*\u001b[0m\u001b[0margs\u001b[0m\u001b[0;34m,\u001b[0m \u001b[0;34m**\u001b[0m\u001b[0mkwargs\u001b[0m\u001b[0;34m)\u001b[0m\u001b[0;34m\u001b[0m\u001b[0;34m\u001b[0m\u001b[0m\n\u001b[0m\u001b[1;32m   1689\u001b[0m \u001b[0;34m\u001b[0m\u001b[0m\n\u001b[1;32m   1690\u001b[0m \u001b[0;34m\u001b[0m\u001b[0m\n",
            "\u001b[0;32m/usr/local/lib/python3.10/dist-packages/keras/src/engine/data_adapter.py\u001b[0m in \u001b[0;36m__init__\u001b[0;34m(self, x, y, sample_weight, batch_size, steps_per_epoch, initial_epoch, epochs, shuffle, class_weight, max_queue_size, workers, use_multiprocessing, model, steps_per_execution, distribute, pss_evaluation_shards)\u001b[0m\n\u001b[1;32m   1290\u001b[0m \u001b[0;34m\u001b[0m\u001b[0m\n\u001b[1;32m   1291\u001b[0m         \u001b[0madapter_cls\u001b[0m \u001b[0;34m=\u001b[0m \u001b[0mselect_data_adapter\u001b[0m\u001b[0;34m(\u001b[0m\u001b[0mx\u001b[0m\u001b[0;34m,\u001b[0m \u001b[0my\u001b[0m\u001b[0;34m)\u001b[0m\u001b[0;34m\u001b[0m\u001b[0;34m\u001b[0m\u001b[0m\n\u001b[0;32m-> 1292\u001b[0;31m         self._adapter = adapter_cls(\n\u001b[0m\u001b[1;32m   1293\u001b[0m             \u001b[0mx\u001b[0m\u001b[0;34m,\u001b[0m\u001b[0;34m\u001b[0m\u001b[0;34m\u001b[0m\u001b[0m\n\u001b[1;32m   1294\u001b[0m             \u001b[0my\u001b[0m\u001b[0;34m,\u001b[0m\u001b[0;34m\u001b[0m\u001b[0;34m\u001b[0m\u001b[0m\n",
            "\u001b[0;32m/usr/local/lib/python3.10/dist-packages/keras/src/engine/data_adapter.py\u001b[0m in \u001b[0;36m__init__\u001b[0;34m(self, x, y, sample_weights, sample_weight_modes, batch_size, epochs, steps, shuffle, **kwargs)\u001b[0m\n\u001b[1;32m    351\u001b[0m             \u001b[0;32mreturn\u001b[0m \u001b[0mflat_dataset\u001b[0m\u001b[0;34m\u001b[0m\u001b[0;34m\u001b[0m\u001b[0m\n\u001b[1;32m    352\u001b[0m \u001b[0;34m\u001b[0m\u001b[0m\n\u001b[0;32m--> 353\u001b[0;31m         \u001b[0mindices_dataset\u001b[0m \u001b[0;34m=\u001b[0m \u001b[0mindices_dataset\u001b[0m\u001b[0;34m.\u001b[0m\u001b[0mflat_map\u001b[0m\u001b[0;34m(\u001b[0m\u001b[0mslice_batch_indices\u001b[0m\u001b[0;34m)\u001b[0m\u001b[0;34m\u001b[0m\u001b[0;34m\u001b[0m\u001b[0m\n\u001b[0m\u001b[1;32m    354\u001b[0m \u001b[0;34m\u001b[0m\u001b[0m\n\u001b[1;32m    355\u001b[0m         \u001b[0mdataset\u001b[0m \u001b[0;34m=\u001b[0m \u001b[0mself\u001b[0m\u001b[0;34m.\u001b[0m\u001b[0mslice_inputs\u001b[0m\u001b[0;34m(\u001b[0m\u001b[0mindices_dataset\u001b[0m\u001b[0;34m,\u001b[0m \u001b[0minputs\u001b[0m\u001b[0;34m)\u001b[0m\u001b[0;34m\u001b[0m\u001b[0;34m\u001b[0m\u001b[0m\n",
            "\u001b[0;32m/usr/local/lib/python3.10/dist-packages/tensorflow/python/data/ops/dataset_ops.py\u001b[0m in \u001b[0;36mflat_map\u001b[0;34m(self, map_func, name)\u001b[0m\n\u001b[1;32m   2323\u001b[0m     \u001b[0;31m# pylint: disable=g-import-not-at-top,protected-access\u001b[0m\u001b[0;34m\u001b[0m\u001b[0;34m\u001b[0m\u001b[0m\n\u001b[1;32m   2324\u001b[0m     \u001b[0;32mfrom\u001b[0m \u001b[0mtensorflow\u001b[0m\u001b[0;34m.\u001b[0m\u001b[0mpython\u001b[0m\u001b[0;34m.\u001b[0m\u001b[0mdata\u001b[0m\u001b[0;34m.\u001b[0m\u001b[0mops\u001b[0m \u001b[0;32mimport\u001b[0m \u001b[0mflat_map_op\u001b[0m\u001b[0;34m\u001b[0m\u001b[0;34m\u001b[0m\u001b[0m\n\u001b[0;32m-> 2325\u001b[0;31m     \u001b[0;32mreturn\u001b[0m \u001b[0mflat_map_op\u001b[0m\u001b[0;34m.\u001b[0m\u001b[0m_flat_map\u001b[0m\u001b[0;34m(\u001b[0m\u001b[0mself\u001b[0m\u001b[0;34m,\u001b[0m \u001b[0mmap_func\u001b[0m\u001b[0;34m,\u001b[0m \u001b[0mname\u001b[0m\u001b[0;34m=\u001b[0m\u001b[0mname\u001b[0m\u001b[0;34m)\u001b[0m\u001b[0;34m\u001b[0m\u001b[0;34m\u001b[0m\u001b[0m\n\u001b[0m\u001b[1;32m   2326\u001b[0m     \u001b[0;31m# pylint: enable=g-import-not-at-top,protected-access\u001b[0m\u001b[0;34m\u001b[0m\u001b[0;34m\u001b[0m\u001b[0m\n\u001b[1;32m   2327\u001b[0m \u001b[0;34m\u001b[0m\u001b[0m\n",
            "\u001b[0;32m/usr/local/lib/python3.10/dist-packages/tensorflow/python/data/ops/flat_map_op.py\u001b[0m in \u001b[0;36m_flat_map\u001b[0;34m(input_dataset, map_func, name)\u001b[0m\n\u001b[1;32m     22\u001b[0m \u001b[0;32mdef\u001b[0m \u001b[0m_flat_map\u001b[0m\u001b[0;34m(\u001b[0m\u001b[0minput_dataset\u001b[0m\u001b[0;34m,\u001b[0m \u001b[0mmap_func\u001b[0m\u001b[0;34m,\u001b[0m \u001b[0mname\u001b[0m\u001b[0;34m=\u001b[0m\u001b[0;32mNone\u001b[0m\u001b[0;34m)\u001b[0m\u001b[0;34m:\u001b[0m  \u001b[0;31m# pylint: disable=unused-private-name\u001b[0m\u001b[0;34m\u001b[0m\u001b[0;34m\u001b[0m\u001b[0m\n\u001b[1;32m     23\u001b[0m   \u001b[0;34m\"\"\"See `Dataset.flat_map()` for details.\"\"\"\u001b[0m\u001b[0;34m\u001b[0m\u001b[0;34m\u001b[0m\u001b[0m\n\u001b[0;32m---> 24\u001b[0;31m   \u001b[0;32mreturn\u001b[0m \u001b[0m_FlatMapDataset\u001b[0m\u001b[0;34m(\u001b[0m\u001b[0minput_dataset\u001b[0m\u001b[0;34m,\u001b[0m \u001b[0mmap_func\u001b[0m\u001b[0;34m,\u001b[0m \u001b[0mname\u001b[0m\u001b[0;34m)\u001b[0m\u001b[0;34m\u001b[0m\u001b[0;34m\u001b[0m\u001b[0m\n\u001b[0m\u001b[1;32m     25\u001b[0m \u001b[0;34m\u001b[0m\u001b[0m\n\u001b[1;32m     26\u001b[0m \u001b[0;34m\u001b[0m\u001b[0m\n",
            "\u001b[0;32m/usr/local/lib/python3.10/dist-packages/tensorflow/python/data/ops/flat_map_op.py\u001b[0m in \u001b[0;36m__init__\u001b[0;34m(self, input_dataset, map_func, name)\u001b[0m\n\u001b[1;32m     31\u001b[0m \u001b[0;34m\u001b[0m\u001b[0m\n\u001b[1;32m     32\u001b[0m     \u001b[0mself\u001b[0m\u001b[0;34m.\u001b[0m\u001b[0m_input_dataset\u001b[0m \u001b[0;34m=\u001b[0m \u001b[0minput_dataset\u001b[0m\u001b[0;34m\u001b[0m\u001b[0;34m\u001b[0m\u001b[0m\n\u001b[0;32m---> 33\u001b[0;31m     self._map_func = structured_function.StructuredFunctionWrapper(\n\u001b[0m\u001b[1;32m     34\u001b[0m         map_func, self._transformation_name(), dataset=input_dataset)\n\u001b[1;32m     35\u001b[0m     \u001b[0;32mif\u001b[0m \u001b[0;32mnot\u001b[0m \u001b[0misinstance\u001b[0m\u001b[0;34m(\u001b[0m\u001b[0mself\u001b[0m\u001b[0;34m.\u001b[0m\u001b[0m_map_func\u001b[0m\u001b[0;34m.\u001b[0m\u001b[0moutput_structure\u001b[0m\u001b[0;34m,\u001b[0m \u001b[0mdataset_ops\u001b[0m\u001b[0;34m.\u001b[0m\u001b[0mDatasetSpec\u001b[0m\u001b[0;34m)\u001b[0m\u001b[0;34m:\u001b[0m\u001b[0;34m\u001b[0m\u001b[0;34m\u001b[0m\u001b[0m\n",
            "\u001b[0;32m/usr/local/lib/python3.10/dist-packages/tensorflow/python/data/ops/structured_function.py\u001b[0m in \u001b[0;36m__init__\u001b[0;34m(self, func, transformation_name, dataset, input_classes, input_shapes, input_types, input_structure, add_to_graph, use_legacy_function, defun_kwargs)\u001b[0m\n\u001b[1;32m    263\u001b[0m         \u001b[0mfn_factory\u001b[0m \u001b[0;34m=\u001b[0m \u001b[0mtrace_tf_function\u001b[0m\u001b[0;34m(\u001b[0m\u001b[0mdefun_kwargs\u001b[0m\u001b[0;34m)\u001b[0m\u001b[0;34m\u001b[0m\u001b[0;34m\u001b[0m\u001b[0m\n\u001b[1;32m    264\u001b[0m \u001b[0;34m\u001b[0m\u001b[0m\n\u001b[0;32m--> 265\u001b[0;31m     \u001b[0mself\u001b[0m\u001b[0;34m.\u001b[0m\u001b[0m_function\u001b[0m \u001b[0;34m=\u001b[0m \u001b[0mfn_factory\u001b[0m\u001b[0;34m(\u001b[0m\u001b[0;34m)\u001b[0m\u001b[0;34m\u001b[0m\u001b[0;34m\u001b[0m\u001b[0m\n\u001b[0m\u001b[1;32m    266\u001b[0m     \u001b[0;31m# There is no graph to add in eager mode.\u001b[0m\u001b[0;34m\u001b[0m\u001b[0;34m\u001b[0m\u001b[0m\n\u001b[1;32m    267\u001b[0m     \u001b[0madd_to_graph\u001b[0m \u001b[0;34m&=\u001b[0m \u001b[0;32mnot\u001b[0m \u001b[0mcontext\u001b[0m\u001b[0;34m.\u001b[0m\u001b[0mexecuting_eagerly\u001b[0m\u001b[0;34m(\u001b[0m\u001b[0;34m)\u001b[0m\u001b[0;34m\u001b[0m\u001b[0;34m\u001b[0m\u001b[0m\n",
            "\u001b[0;32m/usr/local/lib/python3.10/dist-packages/tensorflow/python/eager/polymorphic_function/polymorphic_function.py\u001b[0m in \u001b[0;36mget_concrete_function\u001b[0;34m(self, *args, **kwargs)\u001b[0m\n\u001b[1;32m   1225\u001b[0m   \u001b[0;32mdef\u001b[0m \u001b[0mget_concrete_function\u001b[0m\u001b[0;34m(\u001b[0m\u001b[0mself\u001b[0m\u001b[0;34m,\u001b[0m \u001b[0;34m*\u001b[0m\u001b[0margs\u001b[0m\u001b[0;34m,\u001b[0m \u001b[0;34m**\u001b[0m\u001b[0mkwargs\u001b[0m\u001b[0;34m)\u001b[0m\u001b[0;34m:\u001b[0m\u001b[0;34m\u001b[0m\u001b[0;34m\u001b[0m\u001b[0m\n\u001b[1;32m   1226\u001b[0m     \u001b[0;31m# Implements PolymorphicFunction.get_concrete_function.\u001b[0m\u001b[0;34m\u001b[0m\u001b[0;34m\u001b[0m\u001b[0m\n\u001b[0;32m-> 1227\u001b[0;31m     \u001b[0mconcrete\u001b[0m \u001b[0;34m=\u001b[0m \u001b[0mself\u001b[0m\u001b[0;34m.\u001b[0m\u001b[0m_get_concrete_function_garbage_collected\u001b[0m\u001b[0;34m(\u001b[0m\u001b[0;34m*\u001b[0m\u001b[0margs\u001b[0m\u001b[0;34m,\u001b[0m \u001b[0;34m**\u001b[0m\u001b[0mkwargs\u001b[0m\u001b[0;34m)\u001b[0m\u001b[0;34m\u001b[0m\u001b[0;34m\u001b[0m\u001b[0m\n\u001b[0m\u001b[1;32m   1228\u001b[0m     \u001b[0mconcrete\u001b[0m\u001b[0;34m.\u001b[0m\u001b[0m_garbage_collector\u001b[0m\u001b[0;34m.\u001b[0m\u001b[0mrelease\u001b[0m\u001b[0;34m(\u001b[0m\u001b[0;34m)\u001b[0m  \u001b[0;31m# pylint: disable=protected-access\u001b[0m\u001b[0;34m\u001b[0m\u001b[0;34m\u001b[0m\u001b[0m\n\u001b[1;32m   1229\u001b[0m     \u001b[0;32mreturn\u001b[0m \u001b[0mconcrete\u001b[0m\u001b[0;34m\u001b[0m\u001b[0;34m\u001b[0m\u001b[0m\n",
            "\u001b[0;32m/usr/local/lib/python3.10/dist-packages/tensorflow/python/eager/polymorphic_function/polymorphic_function.py\u001b[0m in \u001b[0;36m_get_concrete_function_garbage_collected\u001b[0;34m(self, *args, **kwargs)\u001b[0m\n\u001b[1;32m   1195\u001b[0m       \u001b[0;32mif\u001b[0m \u001b[0mself\u001b[0m\u001b[0;34m.\u001b[0m\u001b[0m_variable_creation_config\u001b[0m \u001b[0;32mis\u001b[0m \u001b[0;32mNone\u001b[0m\u001b[0;34m:\u001b[0m\u001b[0;34m\u001b[0m\u001b[0;34m\u001b[0m\u001b[0m\n\u001b[1;32m   1196\u001b[0m         \u001b[0minitializers\u001b[0m \u001b[0;34m=\u001b[0m \u001b[0;34m[\u001b[0m\u001b[0;34m]\u001b[0m\u001b[0;34m\u001b[0m\u001b[0;34m\u001b[0m\u001b[0m\n\u001b[0;32m-> 1197\u001b[0;31m         \u001b[0mself\u001b[0m\u001b[0;34m.\u001b[0m\u001b[0m_initialize\u001b[0m\u001b[0;34m(\u001b[0m\u001b[0margs\u001b[0m\u001b[0;34m,\u001b[0m \u001b[0mkwargs\u001b[0m\u001b[0;34m,\u001b[0m \u001b[0madd_initializers_to\u001b[0m\u001b[0;34m=\u001b[0m\u001b[0minitializers\u001b[0m\u001b[0;34m)\u001b[0m\u001b[0;34m\u001b[0m\u001b[0;34m\u001b[0m\u001b[0m\n\u001b[0m\u001b[1;32m   1198\u001b[0m         \u001b[0mself\u001b[0m\u001b[0;34m.\u001b[0m\u001b[0m_initialize_uninitialized_variables\u001b[0m\u001b[0;34m(\u001b[0m\u001b[0minitializers\u001b[0m\u001b[0;34m)\u001b[0m\u001b[0;34m\u001b[0m\u001b[0;34m\u001b[0m\u001b[0m\n\u001b[1;32m   1199\u001b[0m \u001b[0;34m\u001b[0m\u001b[0m\n",
            "\u001b[0;32m/usr/local/lib/python3.10/dist-packages/tensorflow/python/eager/polymorphic_function/polymorphic_function.py\u001b[0m in \u001b[0;36m_initialize\u001b[0;34m(self, args, kwds, add_initializers_to)\u001b[0m\n\u001b[1;32m    693\u001b[0m     )\n\u001b[1;32m    694\u001b[0m     \u001b[0;31m# Force the definition of the function for these arguments\u001b[0m\u001b[0;34m\u001b[0m\u001b[0;34m\u001b[0m\u001b[0m\n\u001b[0;32m--> 695\u001b[0;31m     self._concrete_variable_creation_fn = tracing_compilation.trace_function(\n\u001b[0m\u001b[1;32m    696\u001b[0m         \u001b[0margs\u001b[0m\u001b[0;34m,\u001b[0m \u001b[0mkwds\u001b[0m\u001b[0;34m,\u001b[0m \u001b[0mself\u001b[0m\u001b[0;34m.\u001b[0m\u001b[0m_variable_creation_config\u001b[0m\u001b[0;34m\u001b[0m\u001b[0;34m\u001b[0m\u001b[0m\n\u001b[1;32m    697\u001b[0m     )\n",
            "\u001b[0;32m/usr/local/lib/python3.10/dist-packages/tensorflow/python/eager/polymorphic_function/tracing_compilation.py\u001b[0m in \u001b[0;36mtrace_function\u001b[0;34m(args, kwargs, tracing_options)\u001b[0m\n\u001b[1;32m    176\u001b[0m       \u001b[0mkwargs\u001b[0m \u001b[0;34m=\u001b[0m \u001b[0;34m{\u001b[0m\u001b[0;34m}\u001b[0m\u001b[0;34m\u001b[0m\u001b[0;34m\u001b[0m\u001b[0m\n\u001b[1;32m    177\u001b[0m \u001b[0;34m\u001b[0m\u001b[0m\n\u001b[0;32m--> 178\u001b[0;31m     concrete_function = _maybe_define_function(\n\u001b[0m\u001b[1;32m    179\u001b[0m         \u001b[0margs\u001b[0m\u001b[0;34m,\u001b[0m \u001b[0mkwargs\u001b[0m\u001b[0;34m,\u001b[0m \u001b[0mtracing_options\u001b[0m\u001b[0;34m\u001b[0m\u001b[0;34m\u001b[0m\u001b[0m\n\u001b[1;32m    180\u001b[0m     )\n",
            "\u001b[0;32m/usr/local/lib/python3.10/dist-packages/tensorflow/python/eager/polymorphic_function/tracing_compilation.py\u001b[0m in \u001b[0;36m_maybe_define_function\u001b[0;34m(args, kwargs, tracing_options)\u001b[0m\n\u001b[1;32m    281\u001b[0m         \u001b[0;32melse\u001b[0m\u001b[0;34m:\u001b[0m\u001b[0;34m\u001b[0m\u001b[0;34m\u001b[0m\u001b[0m\n\u001b[1;32m    282\u001b[0m           \u001b[0mtarget_func_type\u001b[0m \u001b[0;34m=\u001b[0m \u001b[0mlookup_func_type\u001b[0m\u001b[0;34m\u001b[0m\u001b[0;34m\u001b[0m\u001b[0m\n\u001b[0;32m--> 283\u001b[0;31m         concrete_function = _create_concrete_function(\n\u001b[0m\u001b[1;32m    284\u001b[0m             \u001b[0mtarget_func_type\u001b[0m\u001b[0;34m,\u001b[0m \u001b[0mlookup_func_context\u001b[0m\u001b[0;34m,\u001b[0m \u001b[0mfunc_graph\u001b[0m\u001b[0;34m,\u001b[0m \u001b[0mtracing_options\u001b[0m\u001b[0;34m\u001b[0m\u001b[0;34m\u001b[0m\u001b[0m\n\u001b[1;32m    285\u001b[0m         )\n",
            "\u001b[0;32m/usr/local/lib/python3.10/dist-packages/tensorflow/python/eager/polymorphic_function/tracing_compilation.py\u001b[0m in \u001b[0;36m_create_concrete_function\u001b[0;34m(function_type, type_context, func_graph, tracing_options)\u001b[0m\n\u001b[1;32m    308\u001b[0m       \u001b[0mattributes_lib\u001b[0m\u001b[0;34m.\u001b[0m\u001b[0mDISABLE_ACD\u001b[0m\u001b[0;34m,\u001b[0m \u001b[0;32mFalse\u001b[0m\u001b[0;34m\u001b[0m\u001b[0;34m\u001b[0m\u001b[0m\n\u001b[1;32m    309\u001b[0m   )\n\u001b[0;32m--> 310\u001b[0;31m   traced_func_graph = func_graph_module.func_graph_from_py_func(\n\u001b[0m\u001b[1;32m    311\u001b[0m       \u001b[0mtracing_options\u001b[0m\u001b[0;34m.\u001b[0m\u001b[0mname\u001b[0m\u001b[0;34m,\u001b[0m\u001b[0;34m\u001b[0m\u001b[0;34m\u001b[0m\u001b[0m\n\u001b[1;32m    312\u001b[0m       \u001b[0mtracing_options\u001b[0m\u001b[0;34m.\u001b[0m\u001b[0mpython_function\u001b[0m\u001b[0;34m,\u001b[0m\u001b[0;34m\u001b[0m\u001b[0;34m\u001b[0m\u001b[0m\n",
            "\u001b[0;32m/usr/local/lib/python3.10/dist-packages/tensorflow/python/framework/func_graph.py\u001b[0m in \u001b[0;36mfunc_graph_from_py_func\u001b[0;34m(name, python_func, args, kwargs, signature, func_graph, add_control_dependencies, arg_names, op_return_value, collections, capture_by_value, create_placeholders)\u001b[0m\n\u001b[1;32m   1057\u001b[0m \u001b[0;34m\u001b[0m\u001b[0m\n\u001b[1;32m   1058\u001b[0m     \u001b[0m_\u001b[0m\u001b[0;34m,\u001b[0m \u001b[0moriginal_func\u001b[0m \u001b[0;34m=\u001b[0m \u001b[0mtf_decorator\u001b[0m\u001b[0;34m.\u001b[0m\u001b[0munwrap\u001b[0m\u001b[0;34m(\u001b[0m\u001b[0mpython_func\u001b[0m\u001b[0;34m)\u001b[0m\u001b[0;34m\u001b[0m\u001b[0;34m\u001b[0m\u001b[0m\n\u001b[0;32m-> 1059\u001b[0;31m     \u001b[0mfunc_outputs\u001b[0m \u001b[0;34m=\u001b[0m \u001b[0mpython_func\u001b[0m\u001b[0;34m(\u001b[0m\u001b[0;34m*\u001b[0m\u001b[0mfunc_args\u001b[0m\u001b[0;34m,\u001b[0m \u001b[0;34m**\u001b[0m\u001b[0mfunc_kwargs\u001b[0m\u001b[0;34m)\u001b[0m\u001b[0;34m\u001b[0m\u001b[0;34m\u001b[0m\u001b[0m\n\u001b[0m\u001b[1;32m   1060\u001b[0m \u001b[0;34m\u001b[0m\u001b[0m\n\u001b[1;32m   1061\u001b[0m     \u001b[0;31m# invariant: `func_outputs` contains only Tensors, CompositeTensors,\u001b[0m\u001b[0;34m\u001b[0m\u001b[0;34m\u001b[0m\u001b[0m\n",
            "\u001b[0;32m/usr/local/lib/python3.10/dist-packages/tensorflow/python/eager/polymorphic_function/polymorphic_function.py\u001b[0m in \u001b[0;36mwrapped_fn\u001b[0;34m(*args, **kwds)\u001b[0m\n\u001b[1;32m    596\u001b[0m         \u001b[0;31m# the function a weak reference to itself to avoid a reference cycle.\u001b[0m\u001b[0;34m\u001b[0m\u001b[0;34m\u001b[0m\u001b[0m\n\u001b[1;32m    597\u001b[0m         \u001b[0;32mwith\u001b[0m \u001b[0mOptionalXlaContext\u001b[0m\u001b[0;34m(\u001b[0m\u001b[0mcompile_with_xla\u001b[0m\u001b[0;34m)\u001b[0m\u001b[0;34m:\u001b[0m\u001b[0;34m\u001b[0m\u001b[0;34m\u001b[0m\u001b[0m\n\u001b[0;32m--> 598\u001b[0;31m           \u001b[0mout\u001b[0m \u001b[0;34m=\u001b[0m \u001b[0mweak_wrapped_fn\u001b[0m\u001b[0;34m(\u001b[0m\u001b[0;34m)\u001b[0m\u001b[0;34m.\u001b[0m\u001b[0m__wrapped__\u001b[0m\u001b[0;34m(\u001b[0m\u001b[0;34m*\u001b[0m\u001b[0margs\u001b[0m\u001b[0;34m,\u001b[0m \u001b[0;34m**\u001b[0m\u001b[0mkwds\u001b[0m\u001b[0;34m)\u001b[0m\u001b[0;34m\u001b[0m\u001b[0;34m\u001b[0m\u001b[0m\n\u001b[0m\u001b[1;32m    599\u001b[0m         \u001b[0;32mreturn\u001b[0m \u001b[0mout\u001b[0m\u001b[0;34m\u001b[0m\u001b[0;34m\u001b[0m\u001b[0m\n\u001b[1;32m    600\u001b[0m \u001b[0;34m\u001b[0m\u001b[0m\n",
            "\u001b[0;32m/usr/local/lib/python3.10/dist-packages/tensorflow/python/data/ops/structured_function.py\u001b[0m in \u001b[0;36mwrapped_fn\u001b[0;34m(*args)\u001b[0m\n\u001b[1;32m    229\u001b[0m       \u001b[0;31m# Note: wrapper_helper will apply autograph based on context.\u001b[0m\u001b[0;34m\u001b[0m\u001b[0;34m\u001b[0m\u001b[0m\n\u001b[1;32m    230\u001b[0m       \u001b[0;32mdef\u001b[0m \u001b[0mwrapped_fn\u001b[0m\u001b[0;34m(\u001b[0m\u001b[0;34m*\u001b[0m\u001b[0margs\u001b[0m\u001b[0;34m)\u001b[0m\u001b[0;34m:\u001b[0m  \u001b[0;31m# pylint: disable=missing-docstring\u001b[0m\u001b[0;34m\u001b[0m\u001b[0;34m\u001b[0m\u001b[0m\n\u001b[0;32m--> 231\u001b[0;31m         \u001b[0mret\u001b[0m \u001b[0;34m=\u001b[0m \u001b[0mwrapper_helper\u001b[0m\u001b[0;34m(\u001b[0m\u001b[0;34m*\u001b[0m\u001b[0margs\u001b[0m\u001b[0;34m)\u001b[0m\u001b[0;34m\u001b[0m\u001b[0;34m\u001b[0m\u001b[0m\n\u001b[0m\u001b[1;32m    232\u001b[0m         \u001b[0mret\u001b[0m \u001b[0;34m=\u001b[0m \u001b[0mstructure\u001b[0m\u001b[0;34m.\u001b[0m\u001b[0mto_tensor_list\u001b[0m\u001b[0;34m(\u001b[0m\u001b[0mself\u001b[0m\u001b[0;34m.\u001b[0m\u001b[0m_output_structure\u001b[0m\u001b[0;34m,\u001b[0m \u001b[0mret\u001b[0m\u001b[0;34m)\u001b[0m\u001b[0;34m\u001b[0m\u001b[0;34m\u001b[0m\u001b[0m\n\u001b[1;32m    233\u001b[0m         \u001b[0;32mreturn\u001b[0m \u001b[0;34m[\u001b[0m\u001b[0mops\u001b[0m\u001b[0;34m.\u001b[0m\u001b[0mconvert_to_tensor\u001b[0m\u001b[0;34m(\u001b[0m\u001b[0mt\u001b[0m\u001b[0;34m)\u001b[0m \u001b[0;32mfor\u001b[0m \u001b[0mt\u001b[0m \u001b[0;32min\u001b[0m \u001b[0mret\u001b[0m\u001b[0;34m]\u001b[0m\u001b[0;34m\u001b[0m\u001b[0;34m\u001b[0m\u001b[0m\n",
            "\u001b[0;32m/usr/local/lib/python3.10/dist-packages/tensorflow/python/data/ops/structured_function.py\u001b[0m in \u001b[0;36mwrapper_helper\u001b[0;34m(*args)\u001b[0m\n\u001b[1;32m    159\u001b[0m       \u001b[0;32mif\u001b[0m \u001b[0;32mnot\u001b[0m \u001b[0m_should_unpack\u001b[0m\u001b[0;34m(\u001b[0m\u001b[0mnested_args\u001b[0m\u001b[0;34m)\u001b[0m\u001b[0;34m:\u001b[0m\u001b[0;34m\u001b[0m\u001b[0;34m\u001b[0m\u001b[0m\n\u001b[1;32m    160\u001b[0m         \u001b[0mnested_args\u001b[0m \u001b[0;34m=\u001b[0m \u001b[0;34m(\u001b[0m\u001b[0mnested_args\u001b[0m\u001b[0;34m,\u001b[0m\u001b[0;34m)\u001b[0m\u001b[0;34m\u001b[0m\u001b[0;34m\u001b[0m\u001b[0m\n\u001b[0;32m--> 161\u001b[0;31m       \u001b[0mret\u001b[0m \u001b[0;34m=\u001b[0m \u001b[0mautograph\u001b[0m\u001b[0;34m.\u001b[0m\u001b[0mtf_convert\u001b[0m\u001b[0;34m(\u001b[0m\u001b[0mself\u001b[0m\u001b[0;34m.\u001b[0m\u001b[0m_func\u001b[0m\u001b[0;34m,\u001b[0m \u001b[0mag_ctx\u001b[0m\u001b[0;34m)\u001b[0m\u001b[0;34m(\u001b[0m\u001b[0;34m*\u001b[0m\u001b[0mnested_args\u001b[0m\u001b[0;34m)\u001b[0m\u001b[0;34m\u001b[0m\u001b[0;34m\u001b[0m\u001b[0m\n\u001b[0m\u001b[1;32m    162\u001b[0m       \u001b[0mret\u001b[0m \u001b[0;34m=\u001b[0m \u001b[0mvariable_utils\u001b[0m\u001b[0;34m.\u001b[0m\u001b[0mconvert_variables_to_tensors\u001b[0m\u001b[0;34m(\u001b[0m\u001b[0mret\u001b[0m\u001b[0;34m)\u001b[0m\u001b[0;34m\u001b[0m\u001b[0;34m\u001b[0m\u001b[0m\n\u001b[1;32m    163\u001b[0m       \u001b[0;32mif\u001b[0m \u001b[0m_should_pack\u001b[0m\u001b[0;34m(\u001b[0m\u001b[0mret\u001b[0m\u001b[0;34m)\u001b[0m\u001b[0;34m:\u001b[0m\u001b[0;34m\u001b[0m\u001b[0;34m\u001b[0m\u001b[0m\n",
            "\u001b[0;32m/usr/local/lib/python3.10/dist-packages/tensorflow/python/autograph/impl/api.py\u001b[0m in \u001b[0;36mwrapper\u001b[0;34m(*args, **kwargs)\u001b[0m\n\u001b[1;32m    688\u001b[0m       \u001b[0;32mtry\u001b[0m\u001b[0;34m:\u001b[0m\u001b[0;34m\u001b[0m\u001b[0;34m\u001b[0m\u001b[0m\n\u001b[1;32m    689\u001b[0m         \u001b[0;32mwith\u001b[0m \u001b[0mconversion_ctx\u001b[0m\u001b[0;34m:\u001b[0m\u001b[0;34m\u001b[0m\u001b[0;34m\u001b[0m\u001b[0m\n\u001b[0;32m--> 690\u001b[0;31m           \u001b[0;32mreturn\u001b[0m \u001b[0mconverted_call\u001b[0m\u001b[0;34m(\u001b[0m\u001b[0mf\u001b[0m\u001b[0;34m,\u001b[0m \u001b[0margs\u001b[0m\u001b[0;34m,\u001b[0m \u001b[0mkwargs\u001b[0m\u001b[0;34m,\u001b[0m \u001b[0moptions\u001b[0m\u001b[0;34m=\u001b[0m\u001b[0moptions\u001b[0m\u001b[0;34m)\u001b[0m\u001b[0;34m\u001b[0m\u001b[0;34m\u001b[0m\u001b[0m\n\u001b[0m\u001b[1;32m    691\u001b[0m       \u001b[0;32mexcept\u001b[0m \u001b[0mException\u001b[0m \u001b[0;32mas\u001b[0m \u001b[0me\u001b[0m\u001b[0;34m:\u001b[0m  \u001b[0;31m# pylint:disable=broad-except\u001b[0m\u001b[0;34m\u001b[0m\u001b[0;34m\u001b[0m\u001b[0m\n\u001b[1;32m    692\u001b[0m         \u001b[0;32mif\u001b[0m \u001b[0mhasattr\u001b[0m\u001b[0;34m(\u001b[0m\u001b[0me\u001b[0m\u001b[0;34m,\u001b[0m \u001b[0;34m'ag_error_metadata'\u001b[0m\u001b[0;34m)\u001b[0m\u001b[0;34m:\u001b[0m\u001b[0;34m\u001b[0m\u001b[0;34m\u001b[0m\u001b[0m\n",
            "\u001b[0;32m/usr/local/lib/python3.10/dist-packages/tensorflow/python/autograph/impl/api.py\u001b[0m in \u001b[0;36mconverted_call\u001b[0;34m(f, args, kwargs, caller_fn_scope, options)\u001b[0m\n\u001b[1;32m    375\u001b[0m \u001b[0;34m\u001b[0m\u001b[0m\n\u001b[1;32m    376\u001b[0m   \u001b[0;32mif\u001b[0m \u001b[0;32mnot\u001b[0m \u001b[0moptions\u001b[0m\u001b[0;34m.\u001b[0m\u001b[0muser_requested\u001b[0m \u001b[0;32mand\u001b[0m \u001b[0mconversion\u001b[0m\u001b[0;34m.\u001b[0m\u001b[0mis_allowlisted\u001b[0m\u001b[0;34m(\u001b[0m\u001b[0mf\u001b[0m\u001b[0;34m)\u001b[0m\u001b[0;34m:\u001b[0m\u001b[0;34m\u001b[0m\u001b[0;34m\u001b[0m\u001b[0m\n\u001b[0;32m--> 377\u001b[0;31m     \u001b[0;32mreturn\u001b[0m \u001b[0m_call_unconverted\u001b[0m\u001b[0;34m(\u001b[0m\u001b[0mf\u001b[0m\u001b[0;34m,\u001b[0m \u001b[0margs\u001b[0m\u001b[0;34m,\u001b[0m \u001b[0mkwargs\u001b[0m\u001b[0;34m,\u001b[0m \u001b[0moptions\u001b[0m\u001b[0;34m)\u001b[0m\u001b[0;34m\u001b[0m\u001b[0;34m\u001b[0m\u001b[0m\n\u001b[0m\u001b[1;32m    378\u001b[0m \u001b[0;34m\u001b[0m\u001b[0m\n\u001b[1;32m    379\u001b[0m   \u001b[0;31m# internal_convert_user_code is for example turned off when issuing a dynamic\u001b[0m\u001b[0;34m\u001b[0m\u001b[0;34m\u001b[0m\u001b[0m\n",
            "\u001b[0;32m/usr/local/lib/python3.10/dist-packages/tensorflow/python/autograph/impl/api.py\u001b[0m in \u001b[0;36m_call_unconverted\u001b[0;34m(f, args, kwargs, options, update_cache)\u001b[0m\n\u001b[1;32m    457\u001b[0m \u001b[0;34m\u001b[0m\u001b[0m\n\u001b[1;32m    458\u001b[0m   \u001b[0;32mif\u001b[0m \u001b[0mkwargs\u001b[0m \u001b[0;32mis\u001b[0m \u001b[0;32mnot\u001b[0m \u001b[0;32mNone\u001b[0m\u001b[0;34m:\u001b[0m\u001b[0;34m\u001b[0m\u001b[0;34m\u001b[0m\u001b[0m\n\u001b[0;32m--> 459\u001b[0;31m     \u001b[0;32mreturn\u001b[0m \u001b[0mf\u001b[0m\u001b[0;34m(\u001b[0m\u001b[0;34m*\u001b[0m\u001b[0margs\u001b[0m\u001b[0;34m,\u001b[0m \u001b[0;34m**\u001b[0m\u001b[0mkwargs\u001b[0m\u001b[0;34m)\u001b[0m\u001b[0;34m\u001b[0m\u001b[0;34m\u001b[0m\u001b[0m\n\u001b[0m\u001b[1;32m    460\u001b[0m   \u001b[0;32mreturn\u001b[0m \u001b[0mf\u001b[0m\u001b[0;34m(\u001b[0m\u001b[0;34m*\u001b[0m\u001b[0margs\u001b[0m\u001b[0;34m)\u001b[0m\u001b[0;34m\u001b[0m\u001b[0;34m\u001b[0m\u001b[0m\n\u001b[1;32m    461\u001b[0m \u001b[0;34m\u001b[0m\u001b[0m\n",
            "\u001b[0;32m/usr/local/lib/python3.10/dist-packages/keras/src/engine/data_adapter.py\u001b[0m in \u001b[0;36mslice_batch_indices\u001b[0;34m(indices)\u001b[0m\n\u001b[1;32m    340\u001b[0m             \u001b[0;32mif\u001b[0m \u001b[0mself\u001b[0m\u001b[0;34m.\u001b[0m\u001b[0m_partial_batch_size\u001b[0m\u001b[0;34m:\u001b[0m\u001b[0;34m\u001b[0m\u001b[0;34m\u001b[0m\u001b[0m\n\u001b[1;32m    341\u001b[0m                 index_remainder = tf.data.Dataset.from_tensors(\n\u001b[0;32m--> 342\u001b[0;31m                     tf.slice(\n\u001b[0m\u001b[1;32m    343\u001b[0m                         \u001b[0mindices\u001b[0m\u001b[0;34m,\u001b[0m \u001b[0;34m[\u001b[0m\u001b[0mnum_in_full_batch\u001b[0m\u001b[0;34m]\u001b[0m\u001b[0;34m,\u001b[0m \u001b[0;34m[\u001b[0m\u001b[0mself\u001b[0m\u001b[0;34m.\u001b[0m\u001b[0m_partial_batch_size\u001b[0m\u001b[0;34m]\u001b[0m\u001b[0;34m\u001b[0m\u001b[0;34m\u001b[0m\u001b[0m\n\u001b[1;32m    344\u001b[0m                     )\n",
            "\u001b[0;32m/usr/local/lib/python3.10/dist-packages/tensorflow/python/util/traceback_utils.py\u001b[0m in \u001b[0;36merror_handler\u001b[0;34m(*args, **kwargs)\u001b[0m\n\u001b[1;32m    148\u001b[0m     \u001b[0mfiltered_tb\u001b[0m \u001b[0;34m=\u001b[0m \u001b[0;32mNone\u001b[0m\u001b[0;34m\u001b[0m\u001b[0;34m\u001b[0m\u001b[0m\n\u001b[1;32m    149\u001b[0m     \u001b[0;32mtry\u001b[0m\u001b[0;34m:\u001b[0m\u001b[0;34m\u001b[0m\u001b[0;34m\u001b[0m\u001b[0m\n\u001b[0;32m--> 150\u001b[0;31m       \u001b[0;32mreturn\u001b[0m \u001b[0mfn\u001b[0m\u001b[0;34m(\u001b[0m\u001b[0;34m*\u001b[0m\u001b[0margs\u001b[0m\u001b[0;34m,\u001b[0m \u001b[0;34m**\u001b[0m\u001b[0mkwargs\u001b[0m\u001b[0;34m)\u001b[0m\u001b[0;34m\u001b[0m\u001b[0;34m\u001b[0m\u001b[0m\n\u001b[0m\u001b[1;32m    151\u001b[0m     \u001b[0;32mexcept\u001b[0m \u001b[0mException\u001b[0m \u001b[0;32mas\u001b[0m \u001b[0me\u001b[0m\u001b[0;34m:\u001b[0m\u001b[0;34m\u001b[0m\u001b[0;34m\u001b[0m\u001b[0m\n\u001b[1;32m    152\u001b[0m       \u001b[0mfiltered_tb\u001b[0m \u001b[0;34m=\u001b[0m \u001b[0m_process_traceback_frames\u001b[0m\u001b[0;34m(\u001b[0m\u001b[0me\u001b[0m\u001b[0;34m.\u001b[0m\u001b[0m__traceback__\u001b[0m\u001b[0;34m)\u001b[0m\u001b[0;34m\u001b[0m\u001b[0;34m\u001b[0m\u001b[0m\n",
            "\u001b[0;32m/usr/local/lib/python3.10/dist-packages/tensorflow/python/util/dispatch.py\u001b[0m in \u001b[0;36mop_dispatch_handler\u001b[0;34m(*args, **kwargs)\u001b[0m\n\u001b[1;32m   1258\u001b[0m       \u001b[0;31m# Fallback dispatch system (dispatch v1):\u001b[0m\u001b[0;34m\u001b[0m\u001b[0;34m\u001b[0m\u001b[0m\n\u001b[1;32m   1259\u001b[0m       \u001b[0;32mtry\u001b[0m\u001b[0;34m:\u001b[0m\u001b[0;34m\u001b[0m\u001b[0;34m\u001b[0m\u001b[0m\n\u001b[0;32m-> 1260\u001b[0;31m         \u001b[0;32mreturn\u001b[0m \u001b[0mdispatch_target\u001b[0m\u001b[0;34m(\u001b[0m\u001b[0;34m*\u001b[0m\u001b[0margs\u001b[0m\u001b[0;34m,\u001b[0m \u001b[0;34m**\u001b[0m\u001b[0mkwargs\u001b[0m\u001b[0;34m)\u001b[0m\u001b[0;34m\u001b[0m\u001b[0;34m\u001b[0m\u001b[0m\n\u001b[0m\u001b[1;32m   1261\u001b[0m       \u001b[0;32mexcept\u001b[0m \u001b[0;34m(\u001b[0m\u001b[0mTypeError\u001b[0m\u001b[0;34m,\u001b[0m \u001b[0mValueError\u001b[0m\u001b[0;34m)\u001b[0m\u001b[0;34m:\u001b[0m\u001b[0;34m\u001b[0m\u001b[0;34m\u001b[0m\u001b[0m\n\u001b[1;32m   1262\u001b[0m         \u001b[0;31m# Note: convert_to_eager_tensor currently raises a ValueError, not a\u001b[0m\u001b[0;34m\u001b[0m\u001b[0;34m\u001b[0m\u001b[0m\n",
            "\u001b[0;32m/usr/local/lib/python3.10/dist-packages/tensorflow/python/ops/array_ops.py\u001b[0m in \u001b[0;36mslice\u001b[0;34m(input_, begin, size, name)\u001b[0m\n\u001b[1;32m   1221\u001b[0m     \u001b[0mA\u001b[0m\u001b[0;31m \u001b[0m\u001b[0;31m`\u001b[0m\u001b[0mTensor\u001b[0m\u001b[0;31m`\u001b[0m \u001b[0mthe\u001b[0m \u001b[0msame\u001b[0m \u001b[0mtype\u001b[0m \u001b[0;32mas\u001b[0m\u001b[0;31m \u001b[0m\u001b[0;31m`\u001b[0m\u001b[0minput_\u001b[0m\u001b[0;31m`\u001b[0m\u001b[0;34m.\u001b[0m\u001b[0;34m\u001b[0m\u001b[0;34m\u001b[0m\u001b[0m\n\u001b[1;32m   1222\u001b[0m   \"\"\"\n\u001b[0;32m-> 1223\u001b[0;31m   \u001b[0;32mreturn\u001b[0m \u001b[0mgen_array_ops\u001b[0m\u001b[0;34m.\u001b[0m\u001b[0m_slice\u001b[0m\u001b[0;34m(\u001b[0m\u001b[0minput_\u001b[0m\u001b[0;34m,\u001b[0m \u001b[0mbegin\u001b[0m\u001b[0;34m,\u001b[0m \u001b[0msize\u001b[0m\u001b[0;34m,\u001b[0m \u001b[0mname\u001b[0m\u001b[0;34m=\u001b[0m\u001b[0mname\u001b[0m\u001b[0;34m)\u001b[0m\u001b[0;34m\u001b[0m\u001b[0;34m\u001b[0m\u001b[0m\n\u001b[0m\u001b[1;32m   1224\u001b[0m \u001b[0;34m\u001b[0m\u001b[0m\n\u001b[1;32m   1225\u001b[0m \u001b[0;34m\u001b[0m\u001b[0m\n",
            "\u001b[0;32m/usr/local/lib/python3.10/dist-packages/tensorflow/python/ops/gen_array_ops.py\u001b[0m in \u001b[0;36m_slice\u001b[0;34m(input, begin, size, name)\u001b[0m\n\u001b[1;32m   9823\u001b[0m       \u001b[0;32mpass\u001b[0m  \u001b[0;31m# Add nodes to the TensorFlow graph.\u001b[0m\u001b[0;34m\u001b[0m\u001b[0;34m\u001b[0m\u001b[0m\n\u001b[1;32m   9824\u001b[0m   \u001b[0;31m# Add nodes to the TensorFlow graph.\u001b[0m\u001b[0;34m\u001b[0m\u001b[0;34m\u001b[0m\u001b[0m\n\u001b[0;32m-> 9825\u001b[0;31m   _, _, _op, _outputs = _op_def_library._apply_op_helper(\n\u001b[0m\u001b[1;32m   9826\u001b[0m         \"Slice\", input=input, begin=begin, size=size, name=name)\n\u001b[1;32m   9827\u001b[0m   \u001b[0m_result\u001b[0m \u001b[0;34m=\u001b[0m \u001b[0m_outputs\u001b[0m\u001b[0;34m[\u001b[0m\u001b[0;34m:\u001b[0m\u001b[0;34m]\u001b[0m\u001b[0;34m\u001b[0m\u001b[0;34m\u001b[0m\u001b[0m\n",
            "\u001b[0;32m/usr/local/lib/python3.10/dist-packages/tensorflow/python/framework/op_def_library.py\u001b[0m in \u001b[0;36m_apply_op_helper\u001b[0;34m(op_type_name, name, **keywords)\u001b[0m\n\u001b[1;32m    776\u001b[0m   \u001b[0;32mwith\u001b[0m \u001b[0mg\u001b[0m\u001b[0;34m.\u001b[0m\u001b[0mas_default\u001b[0m\u001b[0;34m(\u001b[0m\u001b[0;34m)\u001b[0m\u001b[0;34m,\u001b[0m \u001b[0mops\u001b[0m\u001b[0;34m.\u001b[0m\u001b[0mname_scope\u001b[0m\u001b[0;34m(\u001b[0m\u001b[0mname\u001b[0m\u001b[0;34m)\u001b[0m \u001b[0;32mas\u001b[0m \u001b[0mscope\u001b[0m\u001b[0;34m:\u001b[0m\u001b[0;34m\u001b[0m\u001b[0;34m\u001b[0m\u001b[0m\n\u001b[1;32m    777\u001b[0m     \u001b[0;32mif\u001b[0m \u001b[0mfallback\u001b[0m\u001b[0;34m:\u001b[0m\u001b[0;34m\u001b[0m\u001b[0;34m\u001b[0m\u001b[0m\n\u001b[0;32m--> 778\u001b[0;31m       _ExtractInputsAndAttrs(op_type_name, op_def, allowed_list_attr_map,\n\u001b[0m\u001b[1;32m    779\u001b[0m                              \u001b[0mkeywords\u001b[0m\u001b[0;34m,\u001b[0m \u001b[0mdefault_type_attr_map\u001b[0m\u001b[0;34m,\u001b[0m \u001b[0mattrs\u001b[0m\u001b[0;34m,\u001b[0m \u001b[0minputs\u001b[0m\u001b[0;34m,\u001b[0m\u001b[0;34m\u001b[0m\u001b[0;34m\u001b[0m\u001b[0m\n\u001b[1;32m    780\u001b[0m                              input_types)\n",
            "\u001b[0;32m/usr/local/lib/python3.10/dist-packages/tensorflow/python/framework/op_def_library.py\u001b[0m in \u001b[0;36m_ExtractInputsAndAttrs\u001b[0;34m(op_type_name, op_def, allowed_list_attr_map, keywords, default_type_attr_map, attrs, inputs, input_types)\u001b[0m\n\u001b[1;32m    549\u001b[0m                 preferred_dtype=default_dtype)\n\u001b[1;32m    550\u001b[0m         \u001b[0;32melse\u001b[0m\u001b[0;34m:\u001b[0m\u001b[0;34m\u001b[0m\u001b[0;34m\u001b[0m\u001b[0m\n\u001b[0;32m--> 551\u001b[0;31m           values = ops.convert_to_tensor(\n\u001b[0m\u001b[1;32m    552\u001b[0m               \u001b[0mvalues\u001b[0m\u001b[0;34m,\u001b[0m\u001b[0;34m\u001b[0m\u001b[0;34m\u001b[0m\u001b[0m\n\u001b[1;32m    553\u001b[0m               \u001b[0mname\u001b[0m\u001b[0;34m=\u001b[0m\u001b[0minput_arg\u001b[0m\u001b[0;34m.\u001b[0m\u001b[0mname\u001b[0m\u001b[0;34m,\u001b[0m\u001b[0;34m\u001b[0m\u001b[0;34m\u001b[0m\u001b[0m\n",
            "\u001b[0;32m/usr/local/lib/python3.10/dist-packages/tensorflow/python/profiler/trace.py\u001b[0m in \u001b[0;36mwrapped\u001b[0;34m(*args, **kwargs)\u001b[0m\n\u001b[1;32m    181\u001b[0m         \u001b[0;32mwith\u001b[0m \u001b[0mTrace\u001b[0m\u001b[0;34m(\u001b[0m\u001b[0mtrace_name\u001b[0m\u001b[0;34m,\u001b[0m \u001b[0;34m**\u001b[0m\u001b[0mtrace_kwargs\u001b[0m\u001b[0;34m)\u001b[0m\u001b[0;34m:\u001b[0m\u001b[0;34m\u001b[0m\u001b[0;34m\u001b[0m\u001b[0m\n\u001b[1;32m    182\u001b[0m           \u001b[0;32mreturn\u001b[0m \u001b[0mfunc\u001b[0m\u001b[0;34m(\u001b[0m\u001b[0;34m*\u001b[0m\u001b[0margs\u001b[0m\u001b[0;34m,\u001b[0m \u001b[0;34m**\u001b[0m\u001b[0mkwargs\u001b[0m\u001b[0;34m)\u001b[0m\u001b[0;34m\u001b[0m\u001b[0;34m\u001b[0m\u001b[0m\n\u001b[0;32m--> 183\u001b[0;31m       \u001b[0;32mreturn\u001b[0m \u001b[0mfunc\u001b[0m\u001b[0;34m(\u001b[0m\u001b[0;34m*\u001b[0m\u001b[0margs\u001b[0m\u001b[0;34m,\u001b[0m \u001b[0;34m**\u001b[0m\u001b[0mkwargs\u001b[0m\u001b[0;34m)\u001b[0m\u001b[0;34m\u001b[0m\u001b[0;34m\u001b[0m\u001b[0m\n\u001b[0m\u001b[1;32m    184\u001b[0m \u001b[0;34m\u001b[0m\u001b[0m\n\u001b[1;32m    185\u001b[0m     \u001b[0;32mreturn\u001b[0m \u001b[0mwrapped\u001b[0m\u001b[0;34m\u001b[0m\u001b[0;34m\u001b[0m\u001b[0m\n",
            "\u001b[0;32m/usr/local/lib/python3.10/dist-packages/tensorflow/python/framework/ops.py\u001b[0m in \u001b[0;36mconvert_to_tensor\u001b[0;34m(value, dtype, name, as_ref, preferred_dtype, dtype_hint, ctx, accepted_result_types)\u001b[0m\n\u001b[1;32m    694\u001b[0m   \u001b[0;31m# TODO(b/142518781): Fix all call-sites and remove redundant arg\u001b[0m\u001b[0;34m\u001b[0m\u001b[0;34m\u001b[0m\u001b[0m\n\u001b[1;32m    695\u001b[0m   \u001b[0mpreferred_dtype\u001b[0m \u001b[0;34m=\u001b[0m \u001b[0mpreferred_dtype\u001b[0m \u001b[0;32mor\u001b[0m \u001b[0mdtype_hint\u001b[0m\u001b[0;34m\u001b[0m\u001b[0;34m\u001b[0m\u001b[0m\n\u001b[0;32m--> 696\u001b[0;31m   return tensor_conversion_registry.convert(\n\u001b[0m\u001b[1;32m    697\u001b[0m       \u001b[0mvalue\u001b[0m\u001b[0;34m,\u001b[0m \u001b[0mdtype\u001b[0m\u001b[0;34m,\u001b[0m \u001b[0mname\u001b[0m\u001b[0;34m,\u001b[0m \u001b[0mas_ref\u001b[0m\u001b[0;34m,\u001b[0m \u001b[0mpreferred_dtype\u001b[0m\u001b[0;34m,\u001b[0m \u001b[0maccepted_result_types\u001b[0m\u001b[0;34m\u001b[0m\u001b[0;34m\u001b[0m\u001b[0m\n\u001b[1;32m    698\u001b[0m   )\n",
            "\u001b[0;32m/usr/local/lib/python3.10/dist-packages/tensorflow/python/framework/tensor_conversion_registry.py\u001b[0m in \u001b[0;36mconvert\u001b[0;34m(value, dtype, name, as_ref, preferred_dtype, accepted_result_types)\u001b[0m\n\u001b[1;32m    232\u001b[0m \u001b[0;34m\u001b[0m\u001b[0m\n\u001b[1;32m    233\u001b[0m     \u001b[0;32mif\u001b[0m \u001b[0mret\u001b[0m \u001b[0;32mis\u001b[0m \u001b[0;32mNone\u001b[0m\u001b[0;34m:\u001b[0m\u001b[0;34m\u001b[0m\u001b[0;34m\u001b[0m\u001b[0m\n\u001b[0;32m--> 234\u001b[0;31m       \u001b[0mret\u001b[0m \u001b[0;34m=\u001b[0m \u001b[0mconversion_func\u001b[0m\u001b[0;34m(\u001b[0m\u001b[0mvalue\u001b[0m\u001b[0;34m,\u001b[0m \u001b[0mdtype\u001b[0m\u001b[0;34m=\u001b[0m\u001b[0mdtype\u001b[0m\u001b[0;34m,\u001b[0m \u001b[0mname\u001b[0m\u001b[0;34m=\u001b[0m\u001b[0mname\u001b[0m\u001b[0;34m,\u001b[0m \u001b[0mas_ref\u001b[0m\u001b[0;34m=\u001b[0m\u001b[0mas_ref\u001b[0m\u001b[0;34m)\u001b[0m\u001b[0;34m\u001b[0m\u001b[0;34m\u001b[0m\u001b[0m\n\u001b[0m\u001b[1;32m    235\u001b[0m \u001b[0;34m\u001b[0m\u001b[0m\n\u001b[1;32m    236\u001b[0m     \u001b[0;32mif\u001b[0m \u001b[0mret\u001b[0m \u001b[0;32mis\u001b[0m \u001b[0mNotImplemented\u001b[0m\u001b[0;34m:\u001b[0m\u001b[0;34m\u001b[0m\u001b[0;34m\u001b[0m\u001b[0m\n",
            "\u001b[0;32m/usr/local/lib/python3.10/dist-packages/tensorflow/python/framework/constant_op.py\u001b[0m in \u001b[0;36m_constant_tensor_conversion_function\u001b[0;34m(v, dtype, name, as_ref)\u001b[0m\n\u001b[1;32m    333\u001b[0m                                          as_ref=False):\n\u001b[1;32m    334\u001b[0m   \u001b[0m_\u001b[0m \u001b[0;34m=\u001b[0m \u001b[0mas_ref\u001b[0m\u001b[0;34m\u001b[0m\u001b[0;34m\u001b[0m\u001b[0m\n\u001b[0;32m--> 335\u001b[0;31m   \u001b[0;32mreturn\u001b[0m \u001b[0mconstant\u001b[0m\u001b[0;34m(\u001b[0m\u001b[0mv\u001b[0m\u001b[0;34m,\u001b[0m \u001b[0mdtype\u001b[0m\u001b[0;34m=\u001b[0m\u001b[0mdtype\u001b[0m\u001b[0;34m,\u001b[0m \u001b[0mname\u001b[0m\u001b[0;34m=\u001b[0m\u001b[0mname\u001b[0m\u001b[0;34m)\u001b[0m\u001b[0;34m\u001b[0m\u001b[0;34m\u001b[0m\u001b[0m\n\u001b[0m\u001b[1;32m    336\u001b[0m \u001b[0;34m\u001b[0m\u001b[0m\n\u001b[1;32m    337\u001b[0m \u001b[0;31m# Register the conversion function for the \"unconvertible\" types\u001b[0m\u001b[0;34m\u001b[0m\u001b[0;34m\u001b[0m\u001b[0m\n",
            "\u001b[0;32m/usr/local/lib/python3.10/dist-packages/tensorflow/python/ops/weak_tensor_ops.py\u001b[0m in \u001b[0;36mwrapper\u001b[0;34m(*args, **kwargs)\u001b[0m\n\u001b[1;32m    140\u001b[0m   \u001b[0;32mdef\u001b[0m \u001b[0mwrapper\u001b[0m\u001b[0;34m(\u001b[0m\u001b[0;34m*\u001b[0m\u001b[0margs\u001b[0m\u001b[0;34m,\u001b[0m \u001b[0;34m**\u001b[0m\u001b[0mkwargs\u001b[0m\u001b[0;34m)\u001b[0m\u001b[0;34m:\u001b[0m\u001b[0;34m\u001b[0m\u001b[0;34m\u001b[0m\u001b[0m\n\u001b[1;32m    141\u001b[0m     \u001b[0;32mif\u001b[0m \u001b[0;32mnot\u001b[0m \u001b[0mops\u001b[0m\u001b[0;34m.\u001b[0m\u001b[0mis_auto_dtype_conversion_enabled\u001b[0m\u001b[0;34m(\u001b[0m\u001b[0;34m)\u001b[0m\u001b[0;34m:\u001b[0m\u001b[0;34m\u001b[0m\u001b[0;34m\u001b[0m\u001b[0m\n\u001b[0;32m--> 142\u001b[0;31m       \u001b[0;32mreturn\u001b[0m \u001b[0mop\u001b[0m\u001b[0;34m(\u001b[0m\u001b[0;34m*\u001b[0m\u001b[0margs\u001b[0m\u001b[0;34m,\u001b[0m \u001b[0;34m**\u001b[0m\u001b[0mkwargs\u001b[0m\u001b[0;34m)\u001b[0m\u001b[0;34m\u001b[0m\u001b[0;34m\u001b[0m\u001b[0m\n\u001b[0m\u001b[1;32m    143\u001b[0m     \u001b[0mbound_arguments\u001b[0m \u001b[0;34m=\u001b[0m \u001b[0msignature\u001b[0m\u001b[0;34m.\u001b[0m\u001b[0mbind\u001b[0m\u001b[0;34m(\u001b[0m\u001b[0;34m*\u001b[0m\u001b[0margs\u001b[0m\u001b[0;34m,\u001b[0m \u001b[0;34m**\u001b[0m\u001b[0mkwargs\u001b[0m\u001b[0;34m)\u001b[0m\u001b[0;34m\u001b[0m\u001b[0;34m\u001b[0m\u001b[0m\n\u001b[1;32m    144\u001b[0m     \u001b[0mbound_arguments\u001b[0m\u001b[0;34m.\u001b[0m\u001b[0mapply_defaults\u001b[0m\u001b[0;34m(\u001b[0m\u001b[0;34m)\u001b[0m\u001b[0;34m\u001b[0m\u001b[0;34m\u001b[0m\u001b[0m\n",
            "\u001b[0;32m/usr/local/lib/python3.10/dist-packages/tensorflow/python/framework/constant_op.py\u001b[0m in \u001b[0;36mconstant\u001b[0;34m(value, dtype, shape, name)\u001b[0m\n\u001b[1;32m    269\u001b[0m     \u001b[0mValueError\u001b[0m\u001b[0;34m:\u001b[0m \u001b[0;32mif\u001b[0m \u001b[0mcalled\u001b[0m \u001b[0mon\u001b[0m \u001b[0ma\u001b[0m \u001b[0msymbolic\u001b[0m \u001b[0mtensor\u001b[0m\u001b[0;34m.\u001b[0m\u001b[0;34m\u001b[0m\u001b[0;34m\u001b[0m\u001b[0m\n\u001b[1;32m    270\u001b[0m   \"\"\"\n\u001b[0;32m--> 271\u001b[0;31m   return _constant_impl(value, dtype, shape, name, verify_shape=False,\n\u001b[0m\u001b[1;32m    272\u001b[0m                         allow_broadcast=True)\n\u001b[1;32m    273\u001b[0m \u001b[0;34m\u001b[0m\u001b[0m\n",
            "\u001b[0;32m/usr/local/lib/python3.10/dist-packages/tensorflow/python/framework/constant_op.py\u001b[0m in \u001b[0;36m_constant_impl\u001b[0;34m(value, dtype, shape, name, verify_shape, allow_broadcast)\u001b[0m\n\u001b[1;32m    284\u001b[0m     \u001b[0;32mreturn\u001b[0m \u001b[0m_constant_eager_impl\u001b[0m\u001b[0;34m(\u001b[0m\u001b[0mctx\u001b[0m\u001b[0;34m,\u001b[0m \u001b[0mvalue\u001b[0m\u001b[0;34m,\u001b[0m \u001b[0mdtype\u001b[0m\u001b[0;34m,\u001b[0m \u001b[0mshape\u001b[0m\u001b[0;34m,\u001b[0m \u001b[0mverify_shape\u001b[0m\u001b[0;34m)\u001b[0m\u001b[0;34m\u001b[0m\u001b[0;34m\u001b[0m\u001b[0m\n\u001b[1;32m    285\u001b[0m \u001b[0;34m\u001b[0m\u001b[0m\n\u001b[0;32m--> 286\u001b[0;31m   const_tensor = ops._create_graph_constant(  # pylint: disable=protected-access\n\u001b[0m\u001b[1;32m    287\u001b[0m       \u001b[0mvalue\u001b[0m\u001b[0;34m,\u001b[0m \u001b[0mdtype\u001b[0m\u001b[0;34m,\u001b[0m \u001b[0mshape\u001b[0m\u001b[0;34m,\u001b[0m \u001b[0mname\u001b[0m\u001b[0;34m,\u001b[0m \u001b[0mverify_shape\u001b[0m\u001b[0;34m,\u001b[0m \u001b[0mallow_broadcast\u001b[0m\u001b[0;34m\u001b[0m\u001b[0;34m\u001b[0m\u001b[0m\n\u001b[1;32m    288\u001b[0m   )\n",
            "\u001b[0;32m/usr/local/lib/python3.10/dist-packages/tensorflow/python/framework/ops.py\u001b[0m in \u001b[0;36m_create_graph_constant\u001b[0;34m(value, dtype, shape, name, verify_shape, allow_broadcast)\u001b[0m\n\u001b[1;32m    266\u001b[0m   \u001b[0mdtype_value\u001b[0m \u001b[0;34m=\u001b[0m \u001b[0mattr_value_pb2\u001b[0m\u001b[0;34m.\u001b[0m\u001b[0mAttrValue\u001b[0m\u001b[0;34m(\u001b[0m\u001b[0mtype\u001b[0m\u001b[0;34m=\u001b[0m\u001b[0mtensor_value\u001b[0m\u001b[0;34m.\u001b[0m\u001b[0mtensor\u001b[0m\u001b[0;34m.\u001b[0m\u001b[0mdtype\u001b[0m\u001b[0;34m)\u001b[0m\u001b[0;34m\u001b[0m\u001b[0;34m\u001b[0m\u001b[0m\n\u001b[1;32m    267\u001b[0m   \u001b[0mattrs\u001b[0m \u001b[0;34m=\u001b[0m \u001b[0;34m{\u001b[0m\u001b[0;34m\"value\"\u001b[0m\u001b[0;34m:\u001b[0m \u001b[0mtensor_value\u001b[0m\u001b[0;34m,\u001b[0m \u001b[0;34m\"dtype\"\u001b[0m\u001b[0;34m:\u001b[0m \u001b[0mdtype_value\u001b[0m\u001b[0;34m}\u001b[0m\u001b[0;34m\u001b[0m\u001b[0;34m\u001b[0m\u001b[0m\n\u001b[0;32m--> 268\u001b[0;31m   const_tensor = g._create_op_internal(  # pylint: disable=protected-access\n\u001b[0m\u001b[1;32m    269\u001b[0m       \"Const\", [], [dtype_value.type], attrs=attrs, name=name).outputs[0]\n\u001b[1;32m    270\u001b[0m \u001b[0;34m\u001b[0m\u001b[0m\n",
            "\u001b[0;32m/usr/local/lib/python3.10/dist-packages/tensorflow/python/framework/func_graph.py\u001b[0m in \u001b[0;36m_create_op_internal\u001b[0;34m(self, op_type, inputs, dtypes, input_types, name, attrs, op_def, compute_device)\u001b[0m\n\u001b[1;32m    668\u001b[0m       \u001b[0minp\u001b[0m \u001b[0;34m=\u001b[0m \u001b[0mself\u001b[0m\u001b[0;34m.\u001b[0m\u001b[0mcapture\u001b[0m\u001b[0;34m(\u001b[0m\u001b[0minp\u001b[0m\u001b[0;34m)\u001b[0m\u001b[0;34m\u001b[0m\u001b[0;34m\u001b[0m\u001b[0m\n\u001b[1;32m    669\u001b[0m       \u001b[0mcaptured_inputs\u001b[0m\u001b[0;34m.\u001b[0m\u001b[0mappend\u001b[0m\u001b[0;34m(\u001b[0m\u001b[0minp\u001b[0m\u001b[0;34m)\u001b[0m\u001b[0;34m\u001b[0m\u001b[0;34m\u001b[0m\u001b[0m\n\u001b[0;32m--> 670\u001b[0;31m     return super()._create_op_internal(  # pylint: disable=protected-access\n\u001b[0m\u001b[1;32m    671\u001b[0m         \u001b[0mop_type\u001b[0m\u001b[0;34m,\u001b[0m \u001b[0mcaptured_inputs\u001b[0m\u001b[0;34m,\u001b[0m \u001b[0mdtypes\u001b[0m\u001b[0;34m,\u001b[0m \u001b[0minput_types\u001b[0m\u001b[0;34m,\u001b[0m \u001b[0mname\u001b[0m\u001b[0;34m,\u001b[0m \u001b[0mattrs\u001b[0m\u001b[0;34m,\u001b[0m \u001b[0mop_def\u001b[0m\u001b[0;34m,\u001b[0m\u001b[0;34m\u001b[0m\u001b[0;34m\u001b[0m\u001b[0m\n\u001b[1;32m    672\u001b[0m         compute_device)\n",
            "\u001b[0;32m/usr/local/lib/python3.10/dist-packages/tensorflow/python/framework/ops.py\u001b[0m in \u001b[0;36m_create_op_internal\u001b[0;34m(self, op_type, inputs, dtypes, input_types, name, attrs, op_def, compute_device)\u001b[0m\n\u001b[1;32m   2650\u001b[0m     \u001b[0;31m# Session.run call cannot occur between creating and mutating the op.\u001b[0m\u001b[0;34m\u001b[0m\u001b[0;34m\u001b[0m\u001b[0m\n\u001b[1;32m   2651\u001b[0m     \u001b[0;32mwith\u001b[0m \u001b[0mself\u001b[0m\u001b[0;34m.\u001b[0m\u001b[0m_mutation_lock\u001b[0m\u001b[0;34m(\u001b[0m\u001b[0;34m)\u001b[0m\u001b[0;34m:\u001b[0m\u001b[0;34m\u001b[0m\u001b[0;34m\u001b[0m\u001b[0m\n\u001b[0;32m-> 2652\u001b[0;31m       ret = Operation.from_node_def(\n\u001b[0m\u001b[1;32m   2653\u001b[0m           \u001b[0mnode_def\u001b[0m\u001b[0;34m,\u001b[0m\u001b[0;34m\u001b[0m\u001b[0;34m\u001b[0m\u001b[0m\n\u001b[1;32m   2654\u001b[0m           \u001b[0mself\u001b[0m\u001b[0;34m,\u001b[0m\u001b[0;34m\u001b[0m\u001b[0;34m\u001b[0m\u001b[0m\n",
            "\u001b[0;32m/usr/local/lib/python3.10/dist-packages/tensorflow/python/framework/ops.py\u001b[0m in \u001b[0;36mfrom_node_def\u001b[0;34m(***failed resolving arguments***)\u001b[0m\n\u001b[1;32m   1160\u001b[0m     \u001b[0mc_op\u001b[0m \u001b[0;34m=\u001b[0m \u001b[0m_create_c_op\u001b[0m\u001b[0;34m(\u001b[0m\u001b[0mg\u001b[0m\u001b[0;34m,\u001b[0m \u001b[0mnode_def\u001b[0m\u001b[0;34m,\u001b[0m \u001b[0minputs\u001b[0m\u001b[0;34m,\u001b[0m \u001b[0mcontrol_input_ops\u001b[0m\u001b[0;34m,\u001b[0m \u001b[0mop_def\u001b[0m\u001b[0;34m=\u001b[0m\u001b[0mop_def\u001b[0m\u001b[0;34m)\u001b[0m\u001b[0;34m\u001b[0m\u001b[0;34m\u001b[0m\u001b[0m\n\u001b[1;32m   1161\u001b[0m     \u001b[0mself\u001b[0m \u001b[0;34m=\u001b[0m \u001b[0mOperation\u001b[0m\u001b[0;34m(\u001b[0m\u001b[0mc_op\u001b[0m\u001b[0;34m,\u001b[0m \u001b[0mSymbolicTensor\u001b[0m\u001b[0;34m)\u001b[0m\u001b[0;34m\u001b[0m\u001b[0;34m\u001b[0m\u001b[0m\n\u001b[0;32m-> 1162\u001b[0;31m     \u001b[0mself\u001b[0m\u001b[0;34m.\u001b[0m\u001b[0m_init\u001b[0m\u001b[0;34m(\u001b[0m\u001b[0mg\u001b[0m\u001b[0;34m)\u001b[0m\u001b[0;34m\u001b[0m\u001b[0;34m\u001b[0m\u001b[0m\n\u001b[0m\u001b[1;32m   1163\u001b[0m \u001b[0;34m\u001b[0m\u001b[0m\n\u001b[1;32m   1164\u001b[0m     \u001b[0mself\u001b[0m\u001b[0;34m.\u001b[0m\u001b[0m_original_op\u001b[0m \u001b[0;34m=\u001b[0m \u001b[0moriginal_op\u001b[0m\u001b[0;34m\u001b[0m\u001b[0;34m\u001b[0m\u001b[0m\n",
            "\u001b[0;32m/usr/local/lib/python3.10/dist-packages/tensorflow/python/framework/ops.py\u001b[0m in \u001b[0;36m_init\u001b[0;34m(self, graph)\u001b[0m\n\u001b[1;32m   1211\u001b[0m     \u001b[0mself\u001b[0m\u001b[0;34m.\u001b[0m\u001b[0m_gradient_function\u001b[0m \u001b[0;34m=\u001b[0m \u001b[0;32mNone\u001b[0m\u001b[0;34m\u001b[0m\u001b[0;34m\u001b[0m\u001b[0m\n\u001b[1;32m   1212\u001b[0m \u001b[0;34m\u001b[0m\u001b[0m\n\u001b[0;32m-> 1213\u001b[0;31m     \u001b[0mself\u001b[0m\u001b[0;34m.\u001b[0m\u001b[0m_init_outputs\u001b[0m\u001b[0;34m(\u001b[0m\u001b[0;34m)\u001b[0m\u001b[0;34m\u001b[0m\u001b[0;34m\u001b[0m\u001b[0m\n\u001b[0m\u001b[1;32m   1214\u001b[0m     \u001b[0mself\u001b[0m\u001b[0;34m.\u001b[0m\u001b[0m_id_value\u001b[0m \u001b[0;34m=\u001b[0m \u001b[0mself\u001b[0m\u001b[0;34m.\u001b[0m\u001b[0mgraph\u001b[0m\u001b[0;34m.\u001b[0m\u001b[0m_add_op\u001b[0m\u001b[0;34m(\u001b[0m\u001b[0mself\u001b[0m\u001b[0;34m)\u001b[0m  \u001b[0;31m# pylint: disable=protected-access\u001b[0m\u001b[0;34m\u001b[0m\u001b[0;34m\u001b[0m\u001b[0m\n\u001b[1;32m   1215\u001b[0m \u001b[0;34m\u001b[0m\u001b[0m\n",
            "\u001b[0;32m/usr/local/lib/python3.10/dist-packages/tensorflow/python/framework/ops.py\u001b[0m in \u001b[0;36m__new__\u001b[0;34m(cls, op, value_index, dtype, unique_id)\u001b[0m\n\u001b[1;32m    244\u001b[0m       \u001b[0munique_id\u001b[0m \u001b[0;34m=\u001b[0m \u001b[0muid\u001b[0m\u001b[0;34m(\u001b[0m\u001b[0;34m)\u001b[0m\u001b[0;34m\u001b[0m\u001b[0;34m\u001b[0m\u001b[0m\n\u001b[1;32m    245\u001b[0m     return pywrap_tf_session.PyTensor.__new__(\n\u001b[0;32m--> 246\u001b[0;31m         \u001b[0mSymbolicTensor\u001b[0m\u001b[0;34m,\u001b[0m \u001b[0mop\u001b[0m\u001b[0;34m,\u001b[0m \u001b[0mvalue_index\u001b[0m\u001b[0;34m,\u001b[0m \u001b[0mdtypes\u001b[0m\u001b[0;34m.\u001b[0m\u001b[0mas_dtype\u001b[0m\u001b[0;34m(\u001b[0m\u001b[0mdtype\u001b[0m\u001b[0;34m)\u001b[0m\u001b[0;34m,\u001b[0m \u001b[0munique_id\u001b[0m\u001b[0;34m\u001b[0m\u001b[0;34m\u001b[0m\u001b[0m\n\u001b[0m\u001b[1;32m    247\u001b[0m     )\n\u001b[1;32m    248\u001b[0m \u001b[0;34m\u001b[0m\u001b[0m\n",
            "\u001b[0;32m/usr/local/lib/python3.10/dist-packages/tensorflow/python/framework/dtypes.py\u001b[0m in \u001b[0;36mas_dtype\u001b[0;34m(type_value)\u001b[0m\n\u001b[1;32m    823\u001b[0m     \u001b[0mTypeError\u001b[0m\u001b[0;34m:\u001b[0m \u001b[0mIf\u001b[0m\u001b[0;31m \u001b[0m\u001b[0;31m`\u001b[0m\u001b[0mtype_value\u001b[0m\u001b[0;31m`\u001b[0m \u001b[0mcannot\u001b[0m \u001b[0mbe\u001b[0m \u001b[0mconverted\u001b[0m \u001b[0mto\u001b[0m \u001b[0ma\u001b[0m\u001b[0;31m \u001b[0m\u001b[0;31m`\u001b[0m\u001b[0mDType\u001b[0m\u001b[0;31m`\u001b[0m\u001b[0;34m.\u001b[0m\u001b[0;34m\u001b[0m\u001b[0;34m\u001b[0m\u001b[0m\n\u001b[1;32m    824\u001b[0m   \"\"\"\n\u001b[0;32m--> 825\u001b[0;31m   \u001b[0;32mif\u001b[0m \u001b[0misinstance\u001b[0m\u001b[0;34m(\u001b[0m\u001b[0mtype_value\u001b[0m\u001b[0;34m,\u001b[0m \u001b[0mDType\u001b[0m\u001b[0;34m)\u001b[0m\u001b[0;34m:\u001b[0m\u001b[0;34m\u001b[0m\u001b[0;34m\u001b[0m\u001b[0m\n\u001b[0m\u001b[1;32m    826\u001b[0m     \u001b[0;32mif\u001b[0m \u001b[0mtype_value\u001b[0m\u001b[0;34m.\u001b[0m\u001b[0m_handle_data\u001b[0m \u001b[0;32mis\u001b[0m \u001b[0;32mNone\u001b[0m\u001b[0;34m:\u001b[0m  \u001b[0;31m# pylint:disable=protected-access\u001b[0m\u001b[0;34m\u001b[0m\u001b[0;34m\u001b[0m\u001b[0m\n\u001b[1;32m    827\u001b[0m       \u001b[0;32mreturn\u001b[0m \u001b[0m_INTERN_TABLE\u001b[0m\u001b[0;34m[\u001b[0m\u001b[0mtype_value\u001b[0m\u001b[0;34m.\u001b[0m\u001b[0mas_datatype_enum\u001b[0m\u001b[0;34m]\u001b[0m\u001b[0;34m\u001b[0m\u001b[0;34m\u001b[0m\u001b[0m\n",
            "\u001b[0;32m/usr/lib/python3.10/abc.py\u001b[0m in \u001b[0;36m__instancecheck__\u001b[0;34m(cls, instance)\u001b[0m\n\u001b[1;32m    117\u001b[0m         \u001b[0;32mdef\u001b[0m \u001b[0m__instancecheck__\u001b[0m\u001b[0;34m(\u001b[0m\u001b[0mcls\u001b[0m\u001b[0;34m,\u001b[0m \u001b[0minstance\u001b[0m\u001b[0;34m)\u001b[0m\u001b[0;34m:\u001b[0m\u001b[0;34m\u001b[0m\u001b[0;34m\u001b[0m\u001b[0m\n\u001b[1;32m    118\u001b[0m             \u001b[0;34m\"\"\"Override for isinstance(instance, cls).\"\"\"\u001b[0m\u001b[0;34m\u001b[0m\u001b[0;34m\u001b[0m\u001b[0m\n\u001b[0;32m--> 119\u001b[0;31m             \u001b[0;32mreturn\u001b[0m \u001b[0m_abc_instancecheck\u001b[0m\u001b[0;34m(\u001b[0m\u001b[0mcls\u001b[0m\u001b[0;34m,\u001b[0m \u001b[0minstance\u001b[0m\u001b[0;34m)\u001b[0m\u001b[0;34m\u001b[0m\u001b[0;34m\u001b[0m\u001b[0m\n\u001b[0m\u001b[1;32m    120\u001b[0m \u001b[0;34m\u001b[0m\u001b[0m\n\u001b[1;32m    121\u001b[0m         \u001b[0;32mdef\u001b[0m \u001b[0m__subclasscheck__\u001b[0m\u001b[0;34m(\u001b[0m\u001b[0mcls\u001b[0m\u001b[0;34m,\u001b[0m \u001b[0msubclass\u001b[0m\u001b[0;34m)\u001b[0m\u001b[0;34m:\u001b[0m\u001b[0;34m\u001b[0m\u001b[0;34m\u001b[0m\u001b[0m\n",
            "\u001b[0;31mKeyboardInterrupt\u001b[0m: "
          ]
        }
      ]
    },
    {
      "cell_type": "code",
      "source": [
        "print(predicted_captions)"
      ],
      "metadata": {
        "colab": {
          "base_uri": "https://localhost:8080/"
        },
        "id": "1q64PNE1uvnu",
        "outputId": "0c28b343-c437-441a-9f2f-844ff55bc976"
      },
      "execution_count": 53,
      "outputs": [
        {
          "output_type": "stream",
          "name": "stdout",
          "text": [
            "[' a woman in a dog and a black and white shirt and black on a blue .', ' a boy in a red .', ' a black and white dog and a red and dog in a .', ' a dog is running', ' a boy in a red and black and black shirt and .', ' a boy in a red shirt is .', ' a man in a white and white and white and white and white in a girl and man .', ' a girl in a red shirt and a blue and white and a girl in a the a girl .', ' a boy in a red shirt and black and red the on a group .', ' a man in a dog and black and white his white the .', ' a boy in a red shirt is brown a skateboard .', ' a man in a red shirt and red and white the ball .', ' a boy in a red shirt is running through water .', ' a girl in a red shirt and red in black the black a girl and girl', ' a boy in a black and black shirt and a red and shirt and a shirt and a shirt .', ' a boy in a black shirt is water .', ' a woman in a dog and black dog and black on a dog .', ' a black and white dog is running in a field .', ' a blue and white of a white and white and red .', ' a man in a dog and a dog and a dog and black a blue', ' a brown dog is running in the water .', ' a girl in a white and white and white and white', ' a man in a dog and black and red the mouth .', ' a woman in a dog and black dog and a black and black and white shirt and black on a', ' a girl in a black and white shirt and a girl and a girl and girl .', ' a brown dog is running on the grass .', ' a boy in a red and white and white and a girl and a girl and a girl in a', ' a brown dog is swimming a stick in a boy he in the water .', ' a girl and a girl are playing on the grass .', ' a brown dog is running', ' a girl in a black and blue and blue and a the a a girl .', ' a woman in a dog and black and white a girl .', ' a group in a red and white and white of a girl in the water .', ' a black and white dog is playing in a red and white and white and white dog .', ' a black and white dog and a red and dog in a red and dog .', ' a group of people in a girl and black and a girl and black', ' a boy in a red jacket and skateboard .', ' a person in a . in a man in some to area', ' a girl in a black and blue .', ' a boy in a red shirt and .', ' a woman in a dog and a black and white and white shirt and black on a blue .', ' a bike in a the the are and the bike on a skateboard on a is bike .', ' a girl and a girl in a people in a red and blue and white and white and white .', ' a brown and white dog is in the water .', ' a group of people are the ball .', ' a boy in a black and black shirt and black and blue the a a a a a a a', ' a boy in a the an two bike and skateboard', ' a brown and white dog is in the water .', ' a brown dog and a dog are playing .', ' a woman in a black and white and white and black shirt and black on a dog .', ' a black and white dog and a red and dog in a red and dog .', ' a black and white dog is playing with a red and white and white dog .', ' a brown and white dog is playing in a red ball .', ' a boy in a skateboard and two a .', ' a girl in a black and white and white shirt and a black and white and a girl .', ' a group in a red and white and white of a girl and a girl in a girl in the', ' a boy in a black and black shirt and a red shirt and a a a a a a a', ' a boy in a two jacket and skateboard on a skateboard .', ' a boy in a red and blue .', ' a woman in a dog and black is and a black and white and white shirt and black is and', ' a brown dog is swimming a beach in a stick .', ' a brown dog and a dog are playing .', ' a man in a dog and black dog and a dog and a girl .', ' a boy in a two bike and skateboard', ' a woman in a dog and black dog and black on a dog .', ' a bike in a the the a the a bike .', ' a black dog and a dog are playing in the grass .', ' a man in a dog and black and the a the a the a a a shirt .', ' a man in a dog and a woman and a woman and black is .', ' a girl in a black and blue shirt is water .', ' a boy in a red shirt and .', ' a brown dog is running in the water .', ' a boy in a red on and skateboard and skateboard .', ' a woman in a dog and black and black and white and a girl and black dog and black .', ' a man in a black and black and black a a a a the water .', ' a group in a red toy is swimming a beach .', ' a soccer of a red and white of white of a white and white of a white and white of', ' a black of of white of a white of a white of a white of a man .', ' a black and white dog is playing .', ' a black and white dog is playing in a red and white and white dog .', ' a black and white dog is playing in a red and red and white and white dog .', ' a brown dog is playing on the grass .', ' a man in a white and white and white shirt and black on a man .', ' a brown dog is in a stick in the water .', ' a bike in a the the the a red and two a bike .', ' a brown dog and a dog are playing .', ' a brown dog is in a beach in the water .', ' a black and white dog is playing in a ball .', ' a black and white dog and a red and dog in a ball .', ' a girl in a red and white and white and a girl and a girl in a girl .', ' a man in a dog and black and red the .', ' a man in a dog and black and white a blue', ' a boy in a red shirt is ball on the grass .', ' a black dog and a dog are playing on the water .', ' a girl in a black and blue .', ' a man in a dog and black and black', ' a girl in a red shirt and a blue and blue shirt and a red shirt .', ' a dog is in a bike in the snow .', ' a girl and a woman are playing .', ' a man in a black and white and white shirt and black is and a girl and a white shirt', ' a basketball player in black and white the white and white and white is .', ' a black and white dog is running in the snow .', ' a boy in a dog and black and blue a a blue .', ' a black and white dog is swimming a stick in a boy of water .', ' a man in a dog and black and black', ' a boy in a red shirt is running through water .', ' a on of people in dog of a dog .', ' a boy in a black and blue .', ' a boy in a black and blue .', ' a black and white dog is playing', ' a boy in a black and black shirt is black to a group .', ' a boy in a red and blue with a blue with a shirt and the a skateboard .', ' a girl in a red and white and white and a girl and a white shirt .', ' a boy in a skateboard and .', ' a group of people are of a boy of a on on on .', ' a dog is in the snow .', ' a brown and white dog is running in the water .', ' a boy in a red shirt is dog to to .', ' a brown dog is running on the grass .', ' a boy in a red jacket and .', ' a person in a the white and red and red a skateboard .', ' a man in a dog and a dog and a dog .', ' a woman in a dog and black and black a white shirt and a black and black and white shirt', ' a man in a black and white and white and white and white', ' a boy in a red and red .', ' a brown dog is running on the water .', ' a brown dog is running in the grass .', ' a woman in a black and white and white and black shirt and black on a dog .', ' a boy in a red shirt is dog to .', ' a black and white dog is playing .', ' a boy in a red shirt and skateboard on a skateboard .', ' a boy in a red shirt and black and red the on the white .', ' a crowd of people playing in a field .', ' a woman in a dog and black dog and a black and white and black shirt and black on a', ' a man in a red jacket and .', ' a boy in a red .', ' a man in a dog and black and white', ' a group of dogs and of dogs are in the water in the water .', ' a woman in a dog and black and black a woman .', ' a boy in a red shirt is climbing on the water .', ' a black and white dog is running in the snow .', ' a girl in a white and white and white and a girl and a girl and a girl .', ' a boy in a red shirt and red and white the ball .', ' a basketball player in a red shirt is dog to .', ' a black and white dog and a red and dog in a red and dog .', ' a man in a red and white and white and white and a girl in a girl and a girl', ' a woman in a dog and a black and white shirt and a dog and a girl .', ' a boy in a red and .', ' a man in a skateboard and two skateboard .', ' a girl in a black and blue .', ' a black dog and a woman are playing on the the the the the the grass .', ' a man in a dog and black and white', ' a black and white dog is playing in the grass .', ' a boy in a black shirt and black and black a a blue shirt .', ' a man in a red a and people and skateboard .', ' a boy in a red shirt and black and a blue .', ' a woman in a black and white and white and white shirt and black on a dog .', ' a brown and white dog is playing in a red ball .', ' a boy and a woman on a .', ' a brown dog is running .', ' a man in a black and black shirt and a black shirt and a man .', ' a boy in a red on and red jacket and .', ' a man in a black and white shirt and black is and black and black .', ' a man in a dog and black a blue a a white and dog .', ' a dog is running .', ' a boy in a and red and white in a pool in a pool .', ' a boy in a the two two two .', ' a on of people in a the the a the a of of a blue of a black .', ' a crowd of people in a crowd of a crowd of a crowd .', ' a group of people in a girl and a girl in a girl in a girl .', ' a girl in a white and white shirt a a red and and white shirt a a red and and', ' a little football player in a red shirt and red and red the ball .', ' a crowd of people in a red and red and white is in a field .', ' a dog is running .', ' a boy in a red shirt is in the water .', ' a girl in a white and white and blue .', ' a man in a white shirt and dog .', ' a boy in a red shirt is brown a skateboard .', ' a boy in a skateboard and two a .', ' a boy in a red jacket and .', ' a black and white dog is playing .', ' a man in a dog and black and red .', ' a girl in a black and blue shirt is water .', ' a brown and white dog is running in the grass .', ' a boy in a the the the a the a black a two the mouth .', ' a black and white dog is playing in a red and white and white and white and white dog .', ' a group of people is .', ' a black and white dog is running in the grass .', ' bike', ' a boy in a red .', ' a black and white dog is playing in a red and white and white and white dog .', ' a man in a dog and black and white and white', ' a boy in a . in a two two man in a background', ' a dog is running in the grass .', ' a girl in a white and white and white shirt and a girl and a girl .', ' a person in a the the are and the bike .', ' a black and white dog is playing in the grass .', ' a crowd of a woman in a red .', ' a boy in a red shirt is climbing on the water .', ' a girl in a black and blue shirt is water .', ' a man in a white and white and white and white the white the white the ball .', ' a boy in a red a and bike and with bike .', ' a man in a dog and black dog and black on a crowd .', ' a man in a dog and black and white and white the white on .', ' a girl in a black and blue .', ' a boy in a red on and red jacket and .', ' a boy in a black and black shirt and black and red a a man .', ' a boy in a red shirt and .', ' a boy and a dog are playing in the grass .', ' a boy in a the the a a a a a bike .', ' a crowd of a woman in the a crowd of a man .', ' a boy in a white and white and red and red the two the a skateboard and two man .', ' a boy in a red and white and white and white the bike .', ' a person in a the the the a two a a a the the snow .', ' a boy in a skateboard and skateboard .', ' a woman in a black and black and black and black and black .', ' a group and and of girl in a dogs in a field in a grassy man in a grassy man', ' a black and white dog is running in a field in red area', ' a man in a red on and red jacket and skateboard .', ' a man in a dog and black and black', ' a boy in a black jacket and a black .', ' a man in a black and white shirt and black is and black and black .', ' a brown dog and a dog are playing .', ' a basketball player is a field .', ' a boy in a brown shirt and .', ' a boy in a blue and blue shirt is water .', ' a brown dog is running in the water .', ' a man in a dog and black and black and white', ' a brown dog is running on the grass .', ' a boy in a two bike and two the the snow .', ' a group in a red and white and white of a girl and a girl in the water .', ' a brown dog and a dog are playing .', ' a boy in a red shirt and two on a skateboard and two two two mouth .', ' a girl in a black and blue .', ' a girl in a brown and white and white and white', ' a boy in a red shirt is climbing on the water .', ' a brown dog and a dog are playing .', ' a person in a bike on a wearing wearing bike .', ' a boy in a red shirt is climbing on the water .', ' a group of people in a boy and a girl in a girl in a and girl .', ' a boy in a red and white and white and a girl and a girl in a shirt and a', ' a brown and white dog is running in the water .', ' a boy in a brown shirt and .', ' a man in a white shirt and red and white and white the mouth .', ' a girl in a red and white shirt is playing to to a girl of a girl .', ' a black of of white of a white of a blue of a white shirt and white .', ' a woman in a black and white shirt and black and white a black shirt and black the a dog', ' a crowd of people and a a blue a a blue', ' a girl in a red shirt and blue and blue and a girl .', ' a girl in a red shirt and black and blue .', ' a group of people are the two a group of the a dog .', ' a dog in a red shirt is running in the grass .', ' a black and white dog is playing in a red and white and white and white dog .', ' a woman and a woman are playing .', ' a girl in a black and blue shirt is water .', ' a boy in a red shirt is climbing on the water .', ' a person in a the the the a .', ' a woman in a dog and black is and a black and white and black shirt and black on a', ' a boy in a red on and .', ' a man in a skateboard and mouth on the background .', ' a group in a red and white and a girl in a girl and a girl in a and girl', ' a man in a black and white and black and black shirt and black on a black and white .', ' a girl and a woman are playing .', ' a group of people are .', ' a crowd of people are the ball .', ' a boy in a red shirt is ball on the grass .', ' a black and white dog is playing in a red and white and white dog .', ' a boy is jumping', ' a basketball player in a red .', ' a brown and white of a dog in the boy .', ' a man in a dog and black and white', ' a boy in a red shirt and black and a blue .', ' a brown dog is running on the water .', ' a man in a white and white and white and white the white the white the .', ' a boy in a red shirt is ball .', ' a boy in a red shirt is ball .', ' a boy in a red shirt is .', ' a boy in a pool .', ' a girl in a white and white and white shirt and a girl and a girl .', ' a black dog and a dog and black and white and white dog and black and white and white dog', ' a man in a black and black and black and black and a a a the water .', ' a man in a white shirt and white and white and white the bike .', ' a boy in a lake in the water .', ' a group of people are watching in a race .', ' a woman in a dog and black is and a black and white and white shirt and black on a', ' a crowd of . in a race and a man behind a man and a crowd', ' a boy in a red shirt is climbing on the water .', ' a boy in a red on and skateboard and a a a girl .', ' a girl in a black and white and black shirt and black on a girl .', ' a boy in a red shirt is dog on the water .', ' a man in a dog and a dog and a dog and a dog .', ' a black and white dog is running in the grass .', ' a boy in a red on and .', ' a brown dog is in a boy of the water .', ' a girl in a red shirt and black and blue .', ' a black and white dog and a red and dog .', ' a brown dog is running in the grass .', ' a bike in a bike on a bike .', ' a man in a . in a game in a background', ' a boy in a red shirt is brown a skateboard .', ' a man in a dog and black and white a black', ' a boy in a dog and black and red the .', ' a girl in a black and white and white and white and white', ' a boy in a red and red shirt and .', ' a man in a white and white and white and white', ' a black and white dog is running in the water .', ' a man in a black and white and white and white and black in a girl and a girl in', ' a brown dog is running .', ' a boy in a red shirt is climbing on the water .', ' a dog is running on the snow .', ' a boy and a girl playing', ' a man in a dog and black and black a blue the a red .', ' a black and white dog is running in the water .', ' a black and white dog is playing in a ball .', ' a boy in a red shirt is ball on the water .', ' a man in a dog and a dog and a dog .', ' a woman in a black and black and white and white shirt and black on a dog .', ' a group of people are of the water in the water .', ' a brown dog and a dog are playing .', ' a girl in a black and white shirt and a black and girl .', ' a crowd of people in a red and red and red and red in a blue .', ' a boy in a red shirt and .', ' a brown dog and a dog are playing .', ' a man in a dog and a dog and a dog .', ' a group of people of a red and white and white and white of a girl .', ' a girl in a black shirt and black and white and white shirt and a girl .', ' a black and white dog and a red and dog .', ' a boy in a black and blue shirt is water on a wooden slide .', ' a group of people in a girl and a girl in a girl in a girl .', ' a black and white dog is playing .', ' a crowd of people playing in a field .', ' a girl in a black and blue shirt and blue in a shirt .', ' a group of people playing in the grass .', ' a black and white dog is playing in a red and white and white dog .', ' a black and white dog is running in a of field .', ' a girl in a white and white and white and white and a girl and a girl and a girl', ' a woman in a dog and black and black a girl and a girl .', ' a girl in a white and white and white shirt and a white and white shirt and a white and', ' a man in a dog and black and white and white', ' a man in a black and white and black and black and a woman in a dog and black in', ' a black and white dog is running in the snow .', ' a brown dog is swimming a stick in a stick .', ' a black and white dog is playing with a red and white and white and white and white dog .', ' a basketball', ' a man in a red and white and white and white and white is .', ' a dog in a red shirt is running .', ' a bike in a bike .', ' a boy in a red shirt is running in the grass .', ' a boy in a red shirt and black and black .', ' a black and white dog is playing in a field .', ' a woman in a dog and black and black a girl and a girl .', ' a boy in a red shirt is running on the grass .', ' a boy in a shirt is in the water in the water .', ' a boy in a red shirt and .', ' a black and white dog is playing in a red and white and white dog .', ' a girl in a brown and white and a black and a a girl .', ' a boy is running', ' a girl in a black and blue and black shirt and a blue and blue .', ' a brown and white dog is in the water in the water .', ' a brown dog and a dog are playing .', ' a woman in a dog and black and black', ' a crowd of a woman in the blue a crowd of a red .', ' a group of people is .', ' a dog in a red shirt and red and .', ' a boy in a red shirt is running in the water .', ' a man in a dog and black and a black shirt .', ' a boy in a red jacket and .', ' a black and white dog is running in a grassy field .', ' a boy in a black shirt and .', ' a girl in a red shirt and a blue and white shirt and a girl and a girl .', ' a dog is running', ' a boy in a orange shirt and .', ' a man in a dog and a dog and a dog and a woman .', ' a woman in a black and white and white and white shirt and black on a black .', ' a girl in a white and white and white shirt and a girl and a girl .', ' a boy in a dog and black and black the the .', ' a bike in a the the .', ' a girl in a black and blue shirt is water .', ' a man in a black and white and black and black and black shirt and black on a black .', ' a boy in a red shirt and .', ' a man in a white shirt and red and white the bike .', ' a man in a dog and black and red a girl .', ' a man in a dog and black and white', ' a person in a bike is a two snow .', ' a man in a dog and black and black and a girl and a girl .', ' a boy in a black and black shirt is brown a skateboard .', ' a black and white dog and a red and dog in a people .', ' a basketball player player a field .', ' a man in a white and white shirt and a white shirt a a black shirt a a dog .', ' a boy in a red shirt and .', ' a man in a red and white and white and a girl and a girl and a girl .', ' a basketball player is a field .', ' a brown and white dog is playing with a ball .', ' a woman in a dog and black and black and a woman and a girl and black on a .', ' a girl in a black and blue .', ' a black and white dog is playing in the grass .', ' a brown dog is running .', ' a boy in a black and blue and black and red the mouth .', ' a girl in a black shirt and a blue and shirt .', ' a boy in a red shirt is climbing on the water .', ' a woman in a dog and black and white a blue', ' bike', ' a boy in a black and blue top a .', ' a black and white dog is playing in a red and white and white and white dog .', ' a girl in a red shirt and black and blue and a girl in a blue shirt .', ' a boy in a the white a two bike and .', ' a man in a black and white and black and black and black and a girl and black dog and', ' a bike in a the the the a red and two a skateboard .', ' a boy is a skateboard in a man in a in with area .', ' a black and white dog and a red and dog in a red dog .', ' a boy in a red and .', ' a boy in a a black top in a .', ' a brown dog is running in the water .', ' a man in a dog and a dog and a dog and a dog .', ' a woman in a dog and a dog and a girl and black in a dog .', ' a black and white dog is playing in the grass .', ' a man in a black and white and black and black and black shirt and black on a black and', ' a boy in a red and black shirt and a a shirt .', ' a boy in a dog and black and a a a a a a a a a a a a', ' a brown dog is in a lake .', ' a girl in a white and white and white and a the the a girl .', ' a black dog and a dog are playing with a red and white and white dog .', ' a black and white dog is playing in a red and white and white dog .', ' a black and white dog is playing in a red and white and white and white dog .', ' a boy in a black shirt and a blue and shirt .', ' a black and white dog is playing in the grass .', ' a brown dog is in a stick in the water .', ' a group in a red orange on and a a group on a pool .', ' a man in a dog and black with a shirt .', ' a girl in a white and white shirt and a blue and white shirt and blue on a shirt .', ' a boy in a red shirt is climbing on the water .', ' a boy in a red shirt and a blue and white and white', ' a brown dog and a dog are playing .', ' a woman in a black and white and white and white shirt and black on a dog .', ' a woman in a dog and black dog and black on a dog .', ' a crowd of people in a red and red and red is is .', ' a girl in a black and white and blue .', ' a boy in a red shirt is climbing on the water .', ' a girl in a black and white shirt and a blue and blue', ' a boy in a pool on the water .', ' a brown dog is running on the grass .', ' a brown dog is running in the water .', ' a black and white dog and a white and white and white .', ' a crowd of . and', ' a boy in a the .', ' a black dog is playing on the water .', ' a black and white dog is playing in a red and white and white dog .', ' a girl in a black and white shirt and a blue and girl .', ' a black and white dog is playing in a red and white and white dog .', ' a boy in a red and black and blue and a girl and on a a skateboard .', ' a boy in a red shirt and black and blue .', ' a boy in a black and blue .', ' a girl in a black and white shirt and a girl and a girl and girl .', ' a man in a dog and a dog and a dog and a black shirt .', ' a group of people in a girl and a girl in a blue and girl .', ' a woman in a dog and black and black a a girl .', ' a boy in a white shirt and white and white', ' a group of people are of the snow .', ' a dog is running in the snow .', ' a boy in a red shirt and .', ' a woman in a dog and black and black a girl and a girl and black is and black is', ' a woman in a dog and black and white', ' a boy in a black shirt is dog to to a group .', ' a black dog and a dog are playing .', ' a black of of white of a white of a white of a blue of a white shirt .', ' a man in a dog and a dog on a .', ' a woman in a dog and a black and white shirt and a dog .', ' a man in a dog and black and black and a woman in a dog .', ' a boy in a red .', ' a brown and white dog is running in the grass .', ' a girl in a red shirt and black and blue and a girl in a .', ' a woman in a dog and a black and white shirt and a dog .', ' a boy in a red shirt and .', ' a boy in a red shirt is climbing on the water .', ' a dog is running in the snow .', ' a man in a dog and black and white', ' a man in a white and white and white and white and white in a girl and a girl in', ' a man in a black and black and black and a girl and a a girl .', ' a crowd of people is watching a crowd .', ' a brown and white dog is and tennis and field .', ' a group of people are of a crowd of people .', ' a dog is running in the snow .', ' a boy in a red shirt is dog to .', ' a woman in a dog and black is and a black and white and white shirt and black is and', ' a black and white dog is playing in a red and white and white dog .', ' a group of people are .', ' a girl in a red and white and a white and a white', ' a woman in a black and white and white and white shirt and black is and a girl and black', ' a boy in a red on and red shirt and with a a a a a bike .', ' a brown dog is running on the water .', ' a group of dogs and dogs on the water .', ' a black of of white of of man in a red shirt and red is .', ' a black and white dog is playing in a red and white and white and white dog .', ' a woman in a dog and a black and white shirt and black on a dog .', ' a girl in a black and white and white and a the a a girl .', ' a black and white dog and a red and dog in a red shirt .', ' a brown dog is swimming the water .', ' a brown dog is running on the water .', ' a woman in a dog and black is and a black and white and white shirt and black is and', ' a woman in a red and white shirt and black and blue the a blue .', ' a crowd of people playing in a field .', ' a man in a dog and a black and white and white', ' a dog in a red shirt and mouth .', ' a boy in a red shirt and .', ' a black and white dog is playing .', ' a woman in a dog and black and black a girl .', ' a crowd of people in a his white is is is .', ' a brown dog is running in the water .', ' a man in a dog and black and white', ' a boy in a red shirt is ball on the water .', ' a woman in a dog and black and black shirt and black on a girl .', ' a crowd of people in a crowd of a crowd of a crowd .', ' a boy in a red shirt and a red shirt .', ' a person in a the the a the a bike .', ' a black and white dog is running in the snow .', ' a boy in a the the a bike on a skateboard .', ' a boy in a white shirt and .', ' a girl in a red shirt a and a and white shirt a a blue shirt .', ' a man in a dog and black and white', ' a group of people are of a crowd of a man .', ' a black and white dog is running in the snow .', ' a boy in a red and black shirt is brown a .', ' a black and white dog in a bike .', ' a girl in a black and blue shirt is water .', ' a brown dog is running on the grass .', ' a boy in a red shirt is running on the water .', ' a dog is running .', ' a woman in a dog and black and white a a woman .', ' a man in a dog and black and white', ' a boy in a red on and orange bike and with a skateboard .', ' a man in a dog and black and a red shirt and black on a .', ' a man in a dog and black and white a the a white', ' a man in a dog and a black and white and white', ' a boy in a red jacket and .', ' a brown dog is running through the grass .', ' a man in a red and white and white and white and white is a girl and man and man', ' a brown dog is running .', ' a basketball player is a field in a to during a game in a game in a man', ' a group of people a black and white the red the blue .', ' a crowd of . in and crowd in and crowd in a crowd in a crowd in a crowd', ' a black and white dog is playing in a red and white and white dog .', ' a girl in a white and white and white and white shirt and a girl and a girl .', ' a boy in a black and blue .', ' a brown dog is running on the grass .', ' a woman in a dog and black dog and a black and white and black shirt and black on a', ' a brown dog is running on the grass .', ' a man in a dog and black and white a a white shirt .', ' a man in a dog and a dog and black and the a the a blue .', ' a boy in a red and white and white and a girl and a girl in a girl and a', ' a brown dog is running in the grass .', ' a man in a black and white and white and a girl and a black and girl .', ' a woman in a black and white and white and white and white shirt and black on a dog .', ' a basketball player in a dog', ' a girl in a black shirt and black and white and a girl and a girl and girl .', ' a man in a red and white and white and a girl and a girl in a girl .', ' a man in a red jacket and .', ' a man in a dog and a dog and a dog and black and white', ' a girl in a blue and blue .', ' a black and white dog is running in the water .', ' a crowd of people in a white is is is .', ' a woman in a dog and a black and white shirt and black on a dog .', ' a crowd of people in a red is is is .', ' a brown dog is running in the water .', ' a man in a red and red and red and two the a a a a a the the a', ' a man in a dog and black a white .', ' a baby in a red shirt is dog to to .', ' a woman in a dog and black dog and a black and white and white shirt and a black dog', ' a man in a dog and black and white', ' a boy in a red on and red shirt and .', ' a black and white of a white and white a man .', ' a crowd of a red of a blue of a the a .', ' a man in a dog and black dog and black on a white and white', ' a brown and white dog is running in the grass .', ' a black and white dog is playing in the grass .', ' a man in a skateboard and a two a two bike .', ' a boy in a red and red and red and skateboard .', ' a woman in a dog and black and black a woman and a man and black dog .', ' a group of people are .', ' a woman in a black and white and black shirt and black is and a black and white and white', ' a brown dog is in a stick in the water .', ' a black and white dog is playing in a red and white and white dog .', ' a boy in a red shirt and .', ' a boy in a brown shirt and a black shirt .', ' a brown dog is in a beach in the water .', ' a black of red of a white of a white of a white of a white of a white of', ' a man in a black and black and black and black and black shirt and black on a dog .', ' a brown dog and a girl are playing', ' a man in a the the a bike and two bike .', ' a boy', ' a woman in a dog and black and black a woman and a girl .', ' a man in a red shirt and .', ' a brown dog is swimming a stick .', ' a man in a dog and a dog and a dog and a girl .', ' a group in a white and white and white and white and white and white and white of a pool', ' a boy in a lake in the water .', ' a man in a dog and a dog and a dog .', ' a boy in a pool and his a on pool .', ' a group of people playing in the girl and a girl in a girl .', ' a black and white dog is playing in the grass .', ' a man in a dog and black and girl .', ' a boy in a black and black shirt and black and red a a a a a a a a', ' a brown and white dog is running in the water .', ' a brown dog and a dog are playing .', ' a woman in a black and white and white and white shirt and black on a dog .', ' a man in a white shirt and dog .', ' a man in a dog and black and red .', ' a brown dog is running on the grass .', ' a black and white dog is running in the grass .', ' a crowd of .', ' a man in a black and white and black and black and black shirt and a black and white shirt', ' a group of people in a the a girl and black and white and white and white and white of', ' a crowd of people in white and red is in a red is .', ' a boy in a red shirt and black and two a bike .', ' a girl in a red shirt and red in black .', ' a boy in a red shirt is brown a skateboard .', ' a man in a black and black and black and red a a a man .', ' a boy in a black shirt is .', ' a black dog and a dog are playing .', ' a man in a dog and a dog and a dog and black with a dog .', ' a boy in a stick in his water .', ' a black and white dog is playing in a red and white and white dog .', ' a man in the snow .', ' a woman in a dog and black dog and black on a dog .', ' a black and white of dogs playing in a field .', ' a boy in a red on and skateboard and two a skateboard .', ' a girl in a brown and white and white and white with a girl and a girl .', ' a black and white dog is playing .', ' a group of people in a girl and a girl in a and the a boy .', ' a boy in a . in a the man in some background', ' a woman in a dog and black and white a a white shirt .', ' a person in a . in a woman in a background', ' a group of people are of the snow .', ' a man in a white and white and white and white', ' a man in a white and white and white and white and white in a white shirt .', ' a man in a dog and black and white', ' a black and white dog is playing in a red and white and white dog .', ' a brown dog is running on the grass .', ' a girl in a white and white and white shirt and a white and white shirt and a white and', ' a crowd of people in a red and his a of of white of a blue of a blue is', ' a bike in a the the .', ' a group of people are in the with with dog .', ' a girl in a red and blue and blue is a girl and a girl in the black in a', ' a man in a dog and black a blue .', ' a woman in a black and white and white and white shirt and black on a girl and a girl', ' a boy in a pool .', ' a boy in a red shirt and .', ' a man in a black and black and black and a man and a girl and a man .', ' a brown and white dog is running in the grass .', ' a woman in a dog and black and black a a woman .', ' a black and white dog is running in the water .', ' a man in a skateboard of the air of the background .', ' a boy in a red shirt is running on the water .', ' a black and white dog is playing in a red and white and white and white and white dog .', ' a black and white dog is playing .', ' a man in a dog and black and white', ' a black of of white of a white of a blue of a white and white of a man .', ' a boy in a red and red and red shirt and .', ' a dog is in the snow .', ' a man in a dog and black and white', ' a black and white dog is playing on the grass .', ' a brown dog is running on the grass .', ' a dog and a dog are a ball .', ' a brown dog is running on the water .', ' a boy in a orange shirt is running on the water .', ' a man in a dog and black and black a blue the a red .', ' a black and white dog is playing in the grass .', ' a black and white dog is playing .', ' a black and white dog is playing in a red and white and white and white dog .', ' a dog is running', ' a man in a dog and black and black and a woman and a girl and black on a .', ' a group of people is .', ' a boy in a black and black shirt and a black shirt .', ' a boy in a red shirt is ball on the water .', ' a man in a dog and black and white', ' a boy in a red shirt and .', ' a boy in a red shirt and .', ' a boy in a white shirt and .', ' a brown dog is running in the water .', ' a person in a the the . in a track in a background', ' a brown dog is running on the grass .', ' a man in a dog and black and white a white the a crowd .', ' a group of people is the ball of a crowd of a man .', ' a boy in a blue and blue shirt is water .', ' a man in a dog and black and white the the the white the .', ' a basketball player in a red shirt and red the red blue a man .', ' a man in a dog and a dog and a dog .', ' a boy in a red shirt and .', ' a woman in a black and white and black and black and a girl and black in a dog .', ' a man in a dog and a dog and black and a dog .', ' a boy in a red jacket and .', ' a black and white dog is running in the water .', ' a brown dog is running in the water .', ' a man in a black and white and white and white and white shirt and black on a black and', ' a brown dog is swimming a stick in a boy of water .', ' a girl in a white and white and white and blue', ' a boy in a red .', ' a woman in a dog and a black and dog and a dog and black in a shirt .', ' a group of people is a man and a man of a blue .', ' a boy in a red shirt is climbing on the water .', ' a dog dog a ball .', ' a black and white dog is running in the water .', ' a boy in a red shirt and the a a shirt .', ' a boy in a red shirt is ball .', ' a black and white dog is playing in a red and white and white dog .', ' a boy in a red on and red shirt and .', ' a man in a black and white and black and black and black shirt and a black and white and', ' a boy in a black and black and black and black and a man and a girl and mouth .', ' a woman in a dog and a dog and a girl and black and white', ' a dog is running on the snow .', ' a black dog and a dog are playing on the water .', ' a woman in a dog and black dog and black on a dog .', ' a woman in a dog and a dog and a girl .', ' a brown dog is in a beach in the water .', ' a group of people are a man and a man of a man .', ' a black and white dog is playing in a red and white and white dog .', ' a boy in a red shirt and black and a blue shirt .', ' a girl in a black and blue and black shirt is water .', ' a girl in a black and blue shirt is water on a wooden wall .', ' a boy in a dog and black and black a blue the a skateboard .', ' a black and white dog is running in a field', ' a dog is running in the snow .', ' a brown dog is running in the water .', ' a black and white dog is playing .', ' a boy in a a black and blue top his water .', ' a girl in a red shirt and a red shirt .', ' a boy in a the blue shirt is dog to to a group of water .', ' a black and white dog is playing in the grass .', ' a brown dog is running in the water .', ' a woman in a black and white and white and white shirt and black on a dog .', ' a girl in a black and blue shirt is water .', ' a boy in a brown shirt and .', ' a man in a white shirt and dog .', ' a girl in a red and white and a white and a white', ' a basketball of people in a red shirt .', ' a brown dog is running in the water .', ' a black and white dog is playing .', ' a boy in a red shirt is ball on the grass .', ' a girl in a black and white and white and white', ' a boy in a black and black shirt and black and blue the a a a a a a a', ' a black and white dog is playing .', ' a man in a dog and black and white', ' a brown dog is running in the water .', ' a brown dog is running on the grass .', ' a man in a dog and a dog and a dog and a woman .', ' a person in a the the are and skateboard on a skateboard .', ' a crowd of people of a white and white of a white is .', ' a black and white dog and a red and dog in a blue and dog .', ' a black dog and a dog are playing .', ' a woman in a black and white and white and black and white shirt and a girl and black on', ' a crowd of people in a his white is is .', ' a boy in a red shirt is brown a skateboard .', ' a dog in a red ball in a field', ' a crowd of a red of a car .', ' a boy in a red jacket and .', ' a brown dog and a dog are playing .', ' a bike in a water and a two two two background .', ' a man in a black and white and black and a black shirt and black on a shirt .', ' a brown dog is running on the grass .', ' a group of people are of the snow .', ' a boy in a red jacket and .', ' a brown dog is running on the grass .', ' a man in a red shirt a and blue shirt and a red and girl .', ' a boy in a orange and orange on and pool in a girl in a pool', ' a brown dog is in a beach in the water .', ' a boy in a red jacket and .', ' a crowd of .', ' a crowd of people in white and white and white and blue of a blue of a blue of a', ' a black and white dog is playing .', ' a man and a woman in a black and girl .', ' a dog is running in the grass .', ' a man in a dog and a black and white and white and a woman and a girl of a', ' a woman in a dog and a black and white shirt and a dog .', ' a crowd of people are .', ' a man in a dog and black and white', ' a dog is running .', ' a girl in a white and white and white shirt and a girl and a girl .', ' a black and white dog is playing with a ball .', ' a boy in a red shirt is dog to to a .', ' a woman in a black and white and white and white shirt and black on a black .', ' a man in a white shirt and red and white the bike .', ' a girl in a red and white shirt and a blue and blue', ' a girl in a black shirt and black and white and white shirt and a girl and girl .', ' a group of dogs and dogs in the water .', ' a basketball player in red and red is .', ' a man and a woman in a black and dog and black in a black and black .', ' a man in a white and white shirt and black is the a black and black .', ' a boy in a red shirt is running', ' a man in a black and white and black .', ' a brown dog is running in the grass .', ' a boy in a . in a the man in a mouth in a background', ' a dog is running in the water .', ' a boy in a black and black shirt and black and a a a a a a a a a', ' a woman in a dog and black dog and black on a black .', ' a man in a dog and a dog and a dog and a dog .', ' a brown dog and a dog are playing .', ' a black and white dog is playing in a red and white and white and white dog .', ' a black and white dog is playing in a ball .', ' a black and white dog is running in the grass .', ' a man in a dog and black and white a white', ' a girl and a girl in a girl and a girl in a girl .', ' a black and white of a girl is playing in a field .', ' a black and white dog is playing in a red and white and white and white and white dog .', ' a girl in a dog and a black and white shirt and a white and white', ' a man in a white shirt and white and white the the a white the a crowd .', ' a brown and white dog is running in the grass .', ' a brown dog is running on the grass .', ' a girl in a red shirt and a blue and blue and a girl in a red shirt .', ' a girl in a white and white and white shirt and a girl and a girl .', ' a boy in a black shirt and a blue shirt .', ' a boy in a red on and .', ' a man in a dog and black a blue .', ' a group of a woman in a crowd of a man .', ' a boy in a red shirt and two and a shirt .', ' a black and white dog is running in a field', ' a woman in a black and white shirt and black and black a a dog .', ' a brown dog and a dog are playing .', ' a group in a red and white and a a girl in the water .', ' a boy in a white and white and white and white in a boy and a girl in a girl', ' a girl in a black shirt and a blue and girl and a girl .', ' a black and white dog is playing in a red and white and white dog .', ' a black and white dog is running in the water .', ' a man in a black and white and black and black shirt and black on a dog .', ' a brown and white dog is playing with a ball .', ' a black and white dog is playing .', ' a man in a dog and a dog and a dog and black on a blue .', ' a black of of white of of a man in a blue .', ' a man in a dog and a dog and a black and white shirt and black on a .', ' a boy in a pool and a girl in the a pool .', ' a girl in a white and white and white shirt and a white and white', ' a boy in a red shirt and .', ' a brown dog is swimming the water .', ' a crowd of people is of a crowd of a red .', ' a man in a dog and black and black his red the .', ' a dog and a boy playing in a field .', ' a man in a white and white and white and white and black in a girl and a girl in', ' a bike in a the the the a two a a a the a a bike .', ' a boy in a black and blue .', ' a black and white dog and a red and white dog in a red ball .', ' a brown dog is running on the grass .', ' a boy in a black and black and black and a girl and a black and girl .', ' a man in a white shirt and red and red the the .', ' a football of football player in a field .', ' a brown player in a white and white and white the white the white the ball .', ' a dog in a red shirt is a hill .', ' a boy in a a black top a mouth on a pool .', ' a girl in a red shirt and black in a shirt .', ' a man in a dog and black and white and white', ' a boy in a dog and black and red the .', ' a boy in a red shirt is ball .', ' a woman in a black and white and girl and black is and a girl and black is and a', ' a dog and a woman are playing in a field .', ' a crowd of . in dog and a blue and white', ' a girl in a red shirt and a blue and girl .', ' a man in a black shirt and black and black a a red shirt .', ' a group of people in a blue and white of a girl in a girl in a girl .', ' a black and white dog is playing .', ' a brown dog is running in the grass .', ' a brown dog and a dog are playing .', ' a dirt bike on a bike on a . in a grassy skateboard', ' a black and white dog is playing with a red and white and white dog .', ' a brown and white dog is running in the water .', ' a man in a black and white and white and white and white', ' a boy in a black and black and black and black and red shirt and a man .', ' a man in a black and black shirt and black and red a girl .', ' a boy in a red on and red bike and skateboard .', ' a woman in a dog and black and black and a woman and a dog and black in a shirt', ' a woman in a dog and black and black and a woman and a girl and black in a dog', ' a dog is running .', ' a boy in a red shirt and a blue shirt .', ' a man in a dog and black and red the .', ' a black of of blue of a white dog in a blue .', ' a group of a red of a blue of a bike .', ' a girl in a black and white and white and white', ' a girl in a white and white and white shirt and a girl and a girl .', ' a girl in a red shirt and a red and and blue .', ' a brown dog and a dog are playing .', ' a black and white dog is playing .', ' a black and white dog is running in the water .', ' a boy in a black and blue shirt is water on the water .', ' a black and white dog is playing in a field .', ' a dog and a dog are playing in a field .', ' a boy in a dog and black and red the .', ' a boy in a the the the a dog and two a a black bike .', ' a person in a two bike and man .', ' a boy in a red shirt is ball on the grass .', ' a basketball of men playing in a field in a grassy grassy field', ' a woman in a dog and black and black and a girl and a black dog and black on a', ' a brown dog is swimming a stick in a boy area .', ' a boy in a red shirt is climbing on the water .', ' a group of people of a man and a girl in a blue .', ' a woman in a dog and black and black a girl and a girl and black is and black is', ' a black of of white of of on of white of a man in a blue .', ' a black and white dog and a red and white dog are running .', ' a woman in a black and white and white and black shirt and black on a dog .', ' a woman in a dog and black dog and red on a man .', ' a girl and a girl in a shirt and a girl .', ' a brown dog and a dog are playing .', ' a man in a black and white shirt and black and white a black shirt and black the a red', ' a girl in a black and white and white shirt and a white and white and white shirt and black', ' a black dog and a dog are playing .', ' a female on a skateboard during a skateboard is to to a wooden bike .', ' a girl in a black and blue shirt is water .', ' a black and white dog is playing .', ' a boy in a red shirt is brown a skateboard .', ' a boy in a dog and black and black a a blue shirt .', ' a boy in a white jacket and two a skateboard and black a .', ' a brown dog is running in the water .', ' a man in a dog and black and white a black', ' a brown dog is in the water on the water .', ' a black and white dog is is a white snow .', ' a boy in a the the a the a bike .', ' a brown dog is running in the water .', ' a man in a red and white and white and a girl and a white shirt a a blue shirt', ' a man in a black and white and black and black and black shirt and black on a dog .', ' a boy in a red and black shirt and a red shirt and .', ' a brown and white dog is in the water .', ' a boy in a red shirt and red and a shirt .', ' a boy in a red .', ' a boy in a red shirt is dog to .', ' a woman in a dog and a black and white shirt and black on a girl .', ' a black and white dog is playing .', ' a boy in a red shirt is ball .', ' a dog is running .', ' a boy in a stick in a lake .', ' a brown dog is running with a ball .', ' a group in a red and white and white and a girl in the a girl in the girl .', ' a brown and white dog is playing with a ball .', ' a brown and white dog is playing in a field .', ' a man in a white shirt and red and white the a red .', ' a man in a dog and black and white', ' a brown dog is running on the grass .', ' a man in a black and white and black and a black shirt is sitting', ' a boy is swimming a toy in a stick .', ' a group of people of a red and white and white and white of a man .', ' a man in a dog and a dog and black and black', ' a man in a red on and red shirt and .', ' a black dog and a dog are playing on the grass .', ' a man in a dog and black and white', ' a black and white dog the bike on a wooden .', ' a black and white dog is his water .', ' a group of people of a red and white and white and white and white of a white .', ' a man in a dog and black and black', ' a man in a red and white and white and white and white and white in a girl .', ' a man in a black and white and black and a girl in a dog and a girl .', ' a basketball player in a red shirt and two a blue .', ' a woman in a dog and black and white a black', ' a boy in a red shirt and .', ' a boy in a red shirt and .', ' a black and white dog is playing in the grass .', ' a man in a dog and a dog and a dog .', ' a group in a red shirt and a blue and blue of black in a shirt .', ' a group of people are a dog on the water .', ' a man in a dog and black on a dog and a girl and a girl .', ' a crowd of . in a field and a blue is and a field in a field .', ' a brown dog and a dog are playing .', ' a black and white dog in the background .', ' a bike in a the and water .', ' a brown dog and a woman are playing .', ' a man in a dog and a dog and black and black', ' a brown dog is running', ' a black of of white of of man in a blue .', ' a crowd of people in a red is in a blue is .', ' a brown dog and a dog dog running', ' a man in a dog and a dog and black and black', ' a group of people in a white and white of a man .', ' a boy in a red shirt is climbing on the water .', ' a boy in a red on and red shirt and .', ' a man in a black and white and white shirt and black is and a girl and black in a', ' a black and white dog and a red and dog in a field .', ' a black and white dog is playing .', ' a boy in a red on and red bike .', ' a brown dog is in a beach in the water .', ' a group of people in a man of a white and white and a woman in a a and white', ' a boy in a red shirt is ball on the water .', ' a basketball', ' a brown dog is running in the water .', ' a boy in a black shirt and a blue and shirt .', ' a girl in a black and white shirt and black in a girl .', ' a boy in a red shirt and .', ' a black dog and a dog are playing on the grass .', ' a boy in a orange orange and .', ' a boy in a red shirt is running on the water .', ' a boy in a red shirt and a girl and girl', ' a boy in a black and white and blue .', ' a boy in a red and black shirt and .', ' a boy in a red shirt and .', ' a boy in a red shirt is climbing on the water .', ' a boy in a and orange and white in a pool in a pool .', ' a black and white dog and a white and white and white bike .', ' a basketball player in a red shirt and two two two white and soccer the ball .', ' a brown dog is running in the grass .', ' a dog and a dog are a ball .', ' a boy in a red shirt and dog .', ' a brown dog is running .', ' a boy in a orange orange and skateboard and a girl on the background .', ' a boy in a red on and .', ' a brown and white dog is running in the snow .', ' a man in a a a a a a a a a the water on the water .', ' a man in a dog and black and red .', ' a boy in a red jacket is .']\n"
          ]
        }
      ]
    },
    {
      "cell_type": "code",
      "source": [
        "one_gram=[]\n",
        "two_gram=[]\n",
        "three_gram=[]\n",
        "for i in range(0,len(images_features)):\n",
        "  true_captions=[]\n",
        "  for j in range(0,len(captions[i])):\n",
        "    true_captions.append(captions[i][j].split(' '))\n",
        "  # print(true_captions)\n",
        "  predicted=predicted_captions[i].split(' ')\n",
        "  # print(predicted)\n",
        "  k1=sentence_bleu(true_captions,predicted,weights=(1,0,0,0))\n",
        "  k2=sentence_bleu(true_captions,predicted,weights=(0.5,0.5,0,0))\n",
        "  k3=sentence_bleu(true_captions,predicted,weights=(0.33,0.33,0.33,0))\n",
        "  one_gram.append(k1)\n",
        "  two_gram.append(k2)\n",
        "  three_gram.append(k3)\n",
        "\n",
        "  # print(k1,k2)\n",
        "print('1_gram',np.mean(one_gram))\n",
        "print('2_gram',np.mean(two_gram))\n",
        "print('3_gram',np.mean(three_gram))"
      ],
      "metadata": {
        "colab": {
          "base_uri": "https://localhost:8080/",
          "height": 211
        },
        "id": "s5jAqWvo2LZM",
        "outputId": "41847b32-4eac-4b02-aa86-9e2a9285ddf8"
      },
      "execution_count": 69,
      "outputs": [
        {
          "output_type": "error",
          "ename": "NameError",
          "evalue": "name 'captions' is not defined",
          "traceback": [
            "\u001b[0;31m---------------------------------------------------------------------------\u001b[0m",
            "\u001b[0;31mNameError\u001b[0m                                 Traceback (most recent call last)",
            "\u001b[0;32m<ipython-input-69-581558a4a10c>\u001b[0m in \u001b[0;36m<cell line: 4>\u001b[0;34m()\u001b[0m\n\u001b[1;32m      4\u001b[0m \u001b[0;32mfor\u001b[0m \u001b[0mi\u001b[0m \u001b[0;32min\u001b[0m \u001b[0mrange\u001b[0m\u001b[0;34m(\u001b[0m\u001b[0;36m0\u001b[0m\u001b[0;34m,\u001b[0m\u001b[0mlen\u001b[0m\u001b[0;34m(\u001b[0m\u001b[0mimages_features\u001b[0m\u001b[0;34m)\u001b[0m\u001b[0;34m)\u001b[0m\u001b[0;34m:\u001b[0m\u001b[0;34m\u001b[0m\u001b[0;34m\u001b[0m\u001b[0m\n\u001b[1;32m      5\u001b[0m   \u001b[0mtrue_captions\u001b[0m\u001b[0;34m=\u001b[0m\u001b[0;34m[\u001b[0m\u001b[0;34m]\u001b[0m\u001b[0;34m\u001b[0m\u001b[0;34m\u001b[0m\u001b[0m\n\u001b[0;32m----> 6\u001b[0;31m   \u001b[0;32mfor\u001b[0m \u001b[0mj\u001b[0m \u001b[0;32min\u001b[0m \u001b[0mrange\u001b[0m\u001b[0;34m(\u001b[0m\u001b[0;36m0\u001b[0m\u001b[0;34m,\u001b[0m\u001b[0mlen\u001b[0m\u001b[0;34m(\u001b[0m\u001b[0mcaptions\u001b[0m\u001b[0;34m[\u001b[0m\u001b[0mi\u001b[0m\u001b[0;34m]\u001b[0m\u001b[0;34m)\u001b[0m\u001b[0;34m)\u001b[0m\u001b[0;34m:\u001b[0m\u001b[0;34m\u001b[0m\u001b[0;34m\u001b[0m\u001b[0m\n\u001b[0m\u001b[1;32m      7\u001b[0m     \u001b[0mtrue_captions\u001b[0m\u001b[0;34m.\u001b[0m\u001b[0mappend\u001b[0m\u001b[0;34m(\u001b[0m\u001b[0mcaptions\u001b[0m\u001b[0;34m[\u001b[0m\u001b[0mi\u001b[0m\u001b[0;34m]\u001b[0m\u001b[0;34m[\u001b[0m\u001b[0mj\u001b[0m\u001b[0;34m]\u001b[0m\u001b[0;34m.\u001b[0m\u001b[0msplit\u001b[0m\u001b[0;34m(\u001b[0m\u001b[0;34m' '\u001b[0m\u001b[0;34m)\u001b[0m\u001b[0;34m)\u001b[0m\u001b[0;34m\u001b[0m\u001b[0;34m\u001b[0m\u001b[0m\n\u001b[1;32m      8\u001b[0m   \u001b[0;31m# print(true_captions)\u001b[0m\u001b[0;34m\u001b[0m\u001b[0;34m\u001b[0m\u001b[0m\n",
            "\u001b[0;31mNameError\u001b[0m: name 'captions' is not defined"
          ]
        }
      ]
    },
    {
      "cell_type": "code",
      "source": [
        "one_gram=[]\n",
        "two_gram=[]\n",
        "three_gram=[]\n",
        "for i in range(0,len(images_features)):\n",
        "  true_captions=[]\n",
        "  for j in range(0,1):\n",
        "    true_captions.append(captions[i][j].split(' '))\n",
        "  # print(true_captions)\n",
        "  predicted=predicted_captions[i].split(' ')\n",
        "  # print(predicted)\n",
        "  k1=sentence_bleu(true_captions,predicted,weights=(1,0,0,0))\n",
        "  k2=sentence_bleu(true_captions,predicted,weights=(0.5,0.5,0,0))\n",
        "  k3=sentence_bleu(true_captions,predicted,weights=(0.33,0.33,0.33,0))\n",
        "  one_gram.append(k1)\n",
        "  two_gram.append(k2)\n",
        "  three_gram.append(k3)\n",
        "\n",
        "  # print(k1,k2)\n",
        "print('1_gram',np.mean(one_gram))\n",
        "print('2_gram',np.mean(two_gram))\n",
        "print('3_gram',np.mean(three_gram))"
      ],
      "metadata": {
        "colab": {
          "base_uri": "https://localhost:8080/"
        },
        "id": "qIxnZJwvLRhb",
        "outputId": "2b92e14b-2b10-4a79-b046-7dbbd8d237c3"
      },
      "execution_count": 72,
      "outputs": [
        {
          "output_type": "stream",
          "name": "stdout",
          "text": [
            "1_gram 0.22457661183266225\n",
            "2_gram 0.06696976420524094\n",
            "3_gram 0.019471172336605887\n"
          ]
        }
      ]
    },
    {
      "cell_type": "code",
      "source": [
        "# Helper function to compute similarity\n",
        "def compute_similarity(predicted_captions, captions):\n",
        "    bleus=[]\n",
        "    predicted=predicted_captions.split(' ')\n",
        "    for j in range(0,len(captions)):\n",
        "      t=captions[j].split(' ')\n",
        "      bleus.append(sentence_bleu(true_captions,predicted,weights=(1,0,0,0)))\n",
        "    return np.mean(bleus)\n",
        "# Step 3: Compute Accuracy\n",
        "threshold = 0.4 # Adjust as needed\n",
        "correct_predictions = 0\n",
        "for generated in predicted_captions:\n",
        "    for ground_truth in true_captions:\n",
        "        similarity = compute_similarity(generated, ground_truth)\n",
        "        if similarity >= threshold:\n",
        "            correct_predictions += 1\n",
        "            break  # Move to the next generated caption\n",
        "accuracy = correct_predictions / len(predicted_captions)\n",
        "accuracy\n",
        "\n"
      ],
      "metadata": {
        "colab": {
          "base_uri": "https://localhost:8080/"
        },
        "id": "084mt8iJLwwi",
        "outputId": "070ddd64-899b-46a2-e87e-b9bb249ca390"
      },
      "execution_count": 85,
      "outputs": [
        {
          "output_type": "execute_result",
          "data": {
            "text/plain": [
              "0.008"
            ]
          },
          "metadata": {},
          "execution_count": 85
        }
      ]
    },
    {
      "cell_type": "code",
      "source": [
        "def predict_image_given_path(path,model):\n",
        "  p=resize_image(path)\n",
        "  training_images = np.array([p])\n",
        "  training_images = np.stack(training_images)\n",
        "  training_images = training_images.astype('float32')\n",
        "  training_images = preprocess_input(training_images)\n",
        "  print(training_images.shape)\n",
        "  my_image = resnet_model.predict(training_images)\n",
        "\n",
        "  extracted_features = global_average_pooling_layer(my_image)\n",
        "  k,v=predict(model,extracted_features)\n",
        "  return k\n"
      ],
      "metadata": {
        "id": "16--GpqBxSZZ"
      },
      "execution_count": 59,
      "outputs": []
    },
    {
      "cell_type": "code",
      "source": [
        "# predict(model,extracted_features)\n",
        "import requests\n",
        "from io import BytesIO\n",
        "path='download.jpg'\n",
        "predict_image_given_path(path,model)"
      ],
      "metadata": {
        "colab": {
          "base_uri": "https://localhost:8080/",
          "height": 296
        },
        "id": "t7lH8_I8su3S",
        "outputId": "4525ddaa-83c4-44b1-a7ec-e8bb3e56e2d5"
      },
      "execution_count": 71,
      "outputs": [
        {
          "output_type": "stream",
          "name": "stdout",
          "text": [
            "(1, 224, 224, 3)\n",
            "1/1 [==============================] - 0s 365ms/step\n",
            "1/1 [==============================] - 0s 87ms/step\n",
            "1/1 [==============================] - 0s 178ms/step\n",
            "1/1 [==============================] - 0s 142ms/step\n",
            "1/1 [==============================] - 0s 79ms/step\n",
            "1/1 [==============================] - 0s 100ms/step\n",
            "1/1 [==============================] - 0s 83ms/step\n",
            "1/1 [==============================] - 0s 80ms/step\n",
            "1/1 [==============================] - 0s 89ms/step\n",
            "1/1 [==============================] - 0s 133ms/step\n",
            "1/1 [==============================] - 0s 130ms/step\n",
            "1/1 [==============================] - 0s 49ms/step\n",
            "1/1 [==============================] - 0s 53ms/step\n",
            "1/1 [==============================] - 0s 49ms/step\n"
          ]
        },
        {
          "output_type": "execute_result",
          "data": {
            "text/plain": [
              "' a black dog and a black dog are in the snow .'"
            ],
            "application/vnd.google.colaboratory.intrinsic+json": {
              "type": "string"
            }
          },
          "metadata": {},
          "execution_count": 71
        }
      ]
    },
    {
      "cell_type": "code",
      "source": [
        "validation_loss, validation_accuracy = model.evaluate(validation_data)\n",
        "print(\"Validation Loss:\", validation_loss)\n",
        "print(\"Validation Accuracy:\", validation_accuracy)"
      ],
      "metadata": {
        "id": "bTlKt4oSAnGl"
      },
      "execution_count": null,
      "outputs": []
    },
    {
      "cell_type": "markdown",
      "source": [],
      "metadata": {
        "id": "xo76zDXL4wzb"
      }
    },
    {
      "cell_type": "markdown",
      "source": [],
      "metadata": {
        "id": "lLOH9jzy4zEU"
      }
    }
  ]
}